{
  "metadata": {
    "language_info": {
      "codemirror_mode": {
        "name": "python",
        "version": 3
      },
      "file_extension": ".py",
      "mimetype": "text/x-python",
      "name": "python",
      "nbconvert_exporter": "python",
      "pygments_lexer": "ipython3",
      "version": "3.8"
    },
    "kernelspec": {
      "name": "python",
      "display_name": "Python (Pyodide)",
      "language": "python"
    }
  },
  "nbformat_minor": 4,
  "nbformat": 4,
  "cells": [
    {
      "cell_type": "markdown",
      "source": "# <center> Lists and Tuple Examples by William Chaudoin </center>",
      "metadata": {}
    },
    {
      "cell_type": "markdown",
      "source": "# <center> Lists </center>",
      "metadata": {}
    },
    {
      "cell_type": "code",
      "source": "# Creating a List Example\nList = [\"William Chaudoin\", 3.16, 24]\nList",
      "metadata": {
        "trusted": true
      },
      "execution_count": 146,
      "outputs": [
        {
          "execution_count": 146,
          "output_type": "execute_result",
          "data": {
            "text/plain": "['William Chaudoin', 3.16, 24]"
          },
          "metadata": {}
        }
      ]
    },
    {
      "cell_type": "code",
      "source": "# Using an Index with a List Example\nprint('Element using Negative and Positive Indexing:\\n Postive:',List[0],\n'\\n Negative:' , List[-3]  )\nprint('Element using Negative and Positive Indexing:\\n Postive:',List[1],\n'\\n Negative:' , List[-2]  )\nprint('Element using Negative and Positive Indexing:\\n Postive:',List[2],\n'\\n Negative:' , List[-1]  )",
      "metadata": {
        "trusted": true
      },
      "execution_count": 147,
      "outputs": [
        {
          "name": "stdout",
          "text": "Element using Negative and Positive Indexing:\n Postive: William Chaudoin \n Negative: William Chaudoin\nElement using Negative and Positive Indexing:\n Postive: 3.16 \n Negative: 3.16\nElement using Negative and Positive Indexing:\n Postive: 24 \n Negative: 24\n",
          "output_type": "stream"
        }
      ]
    },
    {
      "cell_type": "code",
      "source": "# List Involving Sub-List and Tuple Example\nL = [\"William Chaudoin\", 3.16, 24, [1, 2], (\"A\", \"B\")]",
      "metadata": {
        "trusted": true
      },
      "execution_count": 148,
      "outputs": []
    },
    {
      "cell_type": "code",
      "source": "# List Slicing Example\nL[3:5]",
      "metadata": {
        "trusted": true
      },
      "execution_count": 149,
      "outputs": [
        {
          "execution_count": 149,
          "output_type": "execute_result",
          "data": {
            "text/plain": "[[1, 2], ('A', 'B')]"
          },
          "metadata": {}
        }
      ]
    },
    {
      "cell_type": "code",
      "source": "# Adding Elements to a List Example\nL.extend(['data', 69])\nL",
      "metadata": {
        "trusted": true
      },
      "execution_count": 150,
      "outputs": [
        {
          "execution_count": 150,
          "output_type": "execute_result",
          "data": {
            "text/plain": "['William Chaudoin', 3.16, 24, [1, 2], ('A', 'B'), 'data', 69]"
          },
          "metadata": {}
        }
      ]
    },
    {
      "cell_type": "code",
      "source": "# Adding Elements to a List Example 2\nL.append(['science', 42])\nL",
      "metadata": {
        "trusted": true
      },
      "execution_count": 151,
      "outputs": [
        {
          "execution_count": 151,
          "output_type": "execute_result",
          "data": {
            "text/plain": "['William Chaudoin', 3.16, 24, [1, 2], ('A', 'B'), 'data', 69, ['science', 42]]"
          },
          "metadata": {}
        }
      ]
    },
    {
      "cell_type": "code",
      "source": "# Using Len to Check List Length Example\nlen(L)",
      "metadata": {
        "trusted": true
      },
      "execution_count": 152,
      "outputs": [
        {
          "execution_count": 152,
          "output_type": "execute_result",
          "data": {
            "text/plain": "8"
          },
          "metadata": {}
        }
      ]
    },
    {
      "cell_type": "code",
      "source": "# Using an Index to Replace a Value Example\nprint('Before:', L)\nL[5] = 'Data'\nprint('After:', L)",
      "metadata": {
        "trusted": true
      },
      "execution_count": 153,
      "outputs": [
        {
          "name": "stdout",
          "text": "Before: ['William Chaudoin', 3.16, 24, [1, 2], ('A', 'B'), 'data', 69, ['science', 42]]\nAfter: ['William Chaudoin', 3.16, 24, [1, 2], ('A', 'B'), 'Data', 69, ['science', 42]]\n",
          "output_type": "stream"
        }
      ]
    },
    {
      "cell_type": "code",
      "source": "# Using an Index to Delete an Element Example\nprint('Before:', L)\ndel(L[4])\nprint('After:', L)",
      "metadata": {
        "trusted": true
      },
      "execution_count": 154,
      "outputs": [
        {
          "name": "stdout",
          "text": "Before: ['William Chaudoin', 3.16, 24, [1, 2], ('A', 'B'), 'Data', 69, ['science', 42]]\nAfter: ['William Chaudoin', 3.16, 24, [1, 2], 'Data', 69, ['science', 42]]\n",
          "output_type": "stream"
        }
      ]
    },
    {
      "cell_type": "code",
      "source": "# Spliting a String into a List Example\n'William Chaudoin'.split()",
      "metadata": {
        "trusted": true
      },
      "execution_count": 155,
      "outputs": [
        {
          "execution_count": 155,
          "output_type": "execute_result",
          "data": {
            "text/plain": "['William', 'Chaudoin']"
          },
          "metadata": {}
        }
      ]
    },
    {
      "cell_type": "code",
      "source": "# Splitting a String by Special Character Example\n'E@X@A@M@P@L@E'.split('@')",
      "metadata": {
        "trusted": true
      },
      "execution_count": 156,
      "outputs": [
        {
          "execution_count": 156,
          "output_type": "execute_result",
          "data": {
            "text/plain": "['E', 'X', 'A', 'M', 'P', 'L', 'E']"
          },
          "metadata": {}
        }
      ]
    },
    {
      "cell_type": "code",
      "source": "# Copying a List to a New Variable Example\nA = L\nprint('L:', L)\nprint('A:', A)",
      "metadata": {
        "trusted": true
      },
      "execution_count": 157,
      "outputs": [
        {
          "name": "stdout",
          "text": "L: ['William Chaudoin', 3.16, 24, [1, 2], 'Data', 69, ['science', 42]]\nA: ['William Chaudoin', 3.16, 24, [1, 2], 'Data', 69, ['science', 42]]\n",
          "output_type": "stream"
        }
      ]
    },
    {
      "cell_type": "code",
      "source": "# Changing the Original List and Examining the Result to the New Variable\nprint('L[1]:', L[1])\nL[1] = 4.20\nprint('A[1]:', A[1])",
      "metadata": {
        "trusted": true
      },
      "execution_count": 158,
      "outputs": [
        {
          "name": "stdout",
          "text": "L[1]: 3.16\nA[1]: 4.2\n",
          "output_type": "stream"
        }
      ]
    },
    {
      "cell_type": "code",
      "source": "# Alternative Attaching List to New Variable\nB = L[:]\nB",
      "metadata": {
        "trusted": true
      },
      "execution_count": 159,
      "outputs": [
        {
          "execution_count": 159,
          "output_type": "execute_result",
          "data": {
            "text/plain": "['William Chaudoin', 4.2, 24, [1, 2], 'Data', 69, ['science', 42]]"
          },
          "metadata": {}
        }
      ]
    },
    {
      "cell_type": "code",
      "source": "# Adding Lists\nX = [1, 2, 3]\nY = L + X\nY",
      "metadata": {
        "trusted": true
      },
      "execution_count": 160,
      "outputs": [
        {
          "execution_count": 160,
          "output_type": "execute_result",
          "data": {
            "text/plain": "['William Chaudoin', 4.2, 24, [1, 2], 'Data', 69, ['science', 42], 1, 2, 3]"
          },
          "metadata": {}
        }
      ]
    },
    {
      "cell_type": "markdown",
      "source": "# <center> Tuples </center>",
      "metadata": {}
    },
    {
      "cell_type": "code",
      "source": "# Creating a Tuple Example\ntuple1 = (\"William Chaudoin\", 3.16, 24)\ntuple1",
      "metadata": {
        "trusted": true
      },
      "execution_count": 161,
      "outputs": [
        {
          "execution_count": 161,
          "output_type": "execute_result",
          "data": {
            "text/plain": "('William Chaudoin', 3.16, 24)"
          },
          "metadata": {}
        }
      ]
    },
    {
      "cell_type": "code",
      "source": "# Checking Type of Variable Example\ntype(tuple1)",
      "metadata": {
        "trusted": true
      },
      "execution_count": 162,
      "outputs": [
        {
          "execution_count": 162,
          "output_type": "execute_result",
          "data": {
            "text/plain": "tuple"
          },
          "metadata": {}
        }
      ]
    },
    {
      "cell_type": "code",
      "source": "# Using an Index with a Tuple Example\nprint('Element using Negative and Positive Indexing:\\n Postive:',tuple1[0],\n'\\n Negative:' , tuple1[-3]  )\nprint('Element using Negative and Positive Indexing:\\n Postive:',tuple1[1],\n'\\n Negative:' , tuple1[-2]  )\nprint('Element using Negative and Positive Indexing:\\n Postive:',tuple1[2],\n'\\n Negative:' , tuple1[-1]  )",
      "metadata": {
        "trusted": true
      },
      "execution_count": 163,
      "outputs": [
        {
          "name": "stdout",
          "text": "Element using Negative and Positive Indexing:\n Postive: William Chaudoin \n Negative: William Chaudoin\nElement using Negative and Positive Indexing:\n Postive: 3.16 \n Negative: 3.16\nElement using Negative and Positive Indexing:\n Postive: 24 \n Negative: 24\n",
          "output_type": "stream"
        }
      ]
    },
    {
      "cell_type": "code",
      "source": "# Adding Elements to a Tuple through Adding Tuples Example\ntuple2 = tuple1 + ('data', 69)\ntuple2",
      "metadata": {
        "trusted": true
      },
      "execution_count": 164,
      "outputs": [
        {
          "execution_count": 164,
          "output_type": "execute_result",
          "data": {
            "text/plain": "('William Chaudoin', 3.16, 24, 'data', 69)"
          },
          "metadata": {}
        }
      ]
    },
    {
      "cell_type": "code",
      "source": "# Tuple Slicing Example\ntuple2[0:3]",
      "metadata": {
        "trusted": true
      },
      "execution_count": 165,
      "outputs": [
        {
          "execution_count": 165,
          "output_type": "execute_result",
          "data": {
            "text/plain": "('William Chaudoin', 3.16, 24)"
          },
          "metadata": {}
        }
      ]
    },
    {
      "cell_type": "code",
      "source": "# Using Len to Check Tuple Length Example\nlen(tuple2)",
      "metadata": {
        "trusted": true
      },
      "execution_count": 166,
      "outputs": [
        {
          "execution_count": 166,
          "output_type": "execute_result",
          "data": {
            "text/plain": "5"
          },
          "metadata": {}
        }
      ]
    },
    {
      "cell_type": "code",
      "source": "# A New Variable\nTesting_Sort = (7,3,4,5,6,7)\nTesting_Sort",
      "metadata": {
        "trusted": true
      },
      "execution_count": 167,
      "outputs": [
        {
          "execution_count": 167,
          "output_type": "execute_result",
          "data": {
            "text/plain": "(7, 3, 4, 5, 6, 7)"
          },
          "metadata": {}
        }
      ]
    },
    {
      "cell_type": "code",
      "source": "# Using Sorted on a Tuple Example\nTesting_Sorted = sorted(Testing_Sort)\nTesting_Sorted",
      "metadata": {
        "trusted": true
      },
      "execution_count": 168,
      "outputs": [
        {
          "execution_count": 168,
          "output_type": "execute_result",
          "data": {
            "text/plain": "[3, 4, 5, 6, 7, 7]"
          },
          "metadata": {}
        }
      ]
    },
    {
      "cell_type": "code",
      "source": "# Creating a Nested Tuple Example\nNested =(1, 2, (\"data\", \"science\") ,(3,4),(\"data science\",(1,2)))\nNested",
      "metadata": {
        "trusted": true
      },
      "execution_count": 169,
      "outputs": [
        {
          "execution_count": 169,
          "output_type": "execute_result",
          "data": {
            "text/plain": "(1, 2, ('data', 'science'), (3, 4), ('data science', (1, 2)))"
          },
          "metadata": {}
        }
      ]
    },
    {
      "cell_type": "code",
      "source": "# Print Elements of the Tuple Example\nprint(\"Element 0 of Tuple: \", Nested[0])\nprint(\"Element 1 of Tuple: \", Nested[1])\nprint(\"Element 2 of Tuple: \", Nested[2])\nprint(\"Element 3 of Tuple: \", Nested[3])\nprint(\"Element 4 of Tuple: \", Nested[4])",
      "metadata": {
        "trusted": true
      },
      "execution_count": 170,
      "outputs": [
        {
          "name": "stdout",
          "text": "Element 0 of Tuple:  1\nElement 1 of Tuple:  2\nElement 2 of Tuple:  ('data', 'science')\nElement 3 of Tuple:  (3, 4)\nElement 4 of Tuple:  ('data science', (1, 2))\n",
          "output_type": "stream"
        }
      ]
    },
    {
      "cell_type": "code",
      "source": "# Print Each Individual Element of the Tuple Example\nprint(\"Element 0 of Tuple: \", Nested[0])\nprint(\"Element 1 of Tuple: \", Nested[1])\nprint(\"Element 2, 0 of Tuple: \",   Nested[2][0])\nprint(\"Element 2, 1 of Tuple: \",   Nested[2][1])\nprint(\"Element 3, 0 of Tuple: \",   Nested[3][0])\nprint(\"Element 3, 1 of Tuple: \",   Nested[3][1])\nprint(\"Element 4, 0 of Tuple: \",   Nested[4][0])\nprint(\"Element 4, 1 of Tuple: \",   Nested[4][1])\nprint(\"Element 4, 1, 0 of Tuple: \",   Nested[4][1][0])\nprint(\"Element 4, 1, 1 of Tuple: \",   Nested[4][1][1])",
      "metadata": {
        "trusted": true
      },
      "execution_count": 171,
      "outputs": [
        {
          "name": "stdout",
          "text": "Element 0 of Tuple:  1\nElement 1 of Tuple:  2\nElement 2, 0 of Tuple:  data\nElement 2, 1 of Tuple:  science\nElement 3, 0 of Tuple:  3\nElement 3, 1 of Tuple:  4\nElement 4, 0 of Tuple:  data science\nElement 4, 1 of Tuple:  (1, 2)\nElement 4, 1, 0 of Tuple:  1\nElement 4, 1, 1 of Tuple:  2\n",
          "output_type": "stream"
        }
      ]
    },
    {
      "cell_type": "code",
      "source": "# Finding Location of Element within Tuple Using Index Function Example\nNested.index(2)",
      "metadata": {
        "trusted": true
      },
      "execution_count": 172,
      "outputs": [
        {
          "execution_count": 172,
          "output_type": "execute_result",
          "data": {
            "text/plain": "1"
          },
          "metadata": {}
        }
      ]
    }
  ]
}