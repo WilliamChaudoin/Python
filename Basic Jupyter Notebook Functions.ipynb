{
  "metadata": {
    "language_info": {
      "codemirror_mode": {
        "name": "python",
        "version": 3
      },
      "file_extension": ".py",
      "mimetype": "text/x-python",
      "name": "python",
      "nbconvert_exporter": "python",
      "pygments_lexer": "ipython3",
      "version": "3.8"
    },
    "kernelspec": {
      "name": "python",
      "display_name": "Python (Pyodide)",
      "language": "python"
    }
  },
  "nbformat_minor": 4,
  "nbformat": 4,
  "cells": [
    {
      "cell_type": "markdown",
      "source": "# <center> Jupyter Notebook examples by William Chaudoin </center>",
      "metadata": {}
    },
    {
      "cell_type": "markdown",
      "source": "# Markdown Cell",
      "metadata": {}
    },
    {
      "cell_type": "code",
      "source": "# Comment within a Code Cell Example",
      "metadata": {
        "trusted": true
      },
      "execution_count": 9,
      "outputs": []
    },
    {
      "cell_type": "code",
      "source": "# Integar Example\n2",
      "metadata": {
        "trusted": true
      },
      "execution_count": 10,
      "outputs": [
        {
          "execution_count": 10,
          "output_type": "execute_result",
          "data": {
            "text/plain": "2"
          },
          "metadata": {}
        }
      ]
    },
    {
      "cell_type": "code",
      "source": "# Addition Example\n2+2",
      "metadata": {
        "trusted": true
      },
      "execution_count": 11,
      "outputs": [
        {
          "execution_count": 11,
          "output_type": "execute_result",
          "data": {
            "text/plain": "4"
          },
          "metadata": {}
        }
      ]
    },
    {
      "cell_type": "code",
      "source": "# Substraction Example\n4-2",
      "metadata": {
        "trusted": true
      },
      "execution_count": 12,
      "outputs": [
        {
          "execution_count": 12,
          "output_type": "execute_result",
          "data": {
            "text/plain": "2"
          },
          "metadata": {}
        }
      ]
    },
    {
      "cell_type": "code",
      "source": "# Multiplication Example\n2*2",
      "metadata": {
        "trusted": true
      },
      "execution_count": 13,
      "outputs": [
        {
          "execution_count": 13,
          "output_type": "execute_result",
          "data": {
            "text/plain": "4"
          },
          "metadata": {}
        }
      ]
    },
    {
      "cell_type": "code",
      "source": "# Division Example\n4/2",
      "metadata": {
        "trusted": true
      },
      "execution_count": 14,
      "outputs": [
        {
          "execution_count": 14,
          "output_type": "execute_result",
          "data": {
            "text/plain": "2.0"
          },
          "metadata": {}
        }
      ]
    },
    {
      "cell_type": "code",
      "source": "# Division Example 2\n4//2",
      "metadata": {
        "trusted": true
      },
      "execution_count": 17,
      "outputs": [
        {
          "execution_count": 17,
          "output_type": "execute_result",
          "data": {
            "text/plain": "2"
          },
          "metadata": {}
        }
      ]
    },
    {
      "cell_type": "code",
      "source": "# String Example\n\"Hello World!\"",
      "metadata": {
        "trusted": true
      },
      "execution_count": 15,
      "outputs": [
        {
          "execution_count": 15,
          "output_type": "execute_result",
          "data": {
            "text/plain": "'Hello World!'"
          },
          "metadata": {}
        }
      ]
    },
    {
      "cell_type": "code",
      "source": "# Creating Variable F\nF = 1\nF",
      "metadata": {
        "trusted": true
      },
      "execution_count": 4,
      "outputs": [
        {
          "execution_count": 4,
          "output_type": "execute_result",
          "data": {
            "text/plain": "1"
          },
          "metadata": {}
        }
      ]
    },
    {
      "cell_type": "code",
      "source": "# Creating Variable G\nG = 2\nG",
      "metadata": {
        "trusted": true
      },
      "execution_count": 5,
      "outputs": [
        {
          "execution_count": 5,
          "output_type": "execute_result",
          "data": {
            "text/plain": "2"
          },
          "metadata": {}
        }
      ]
    },
    {
      "cell_type": "code",
      "source": "# Performing Mathematical with Defined Variables Example\nH = F + G\nH",
      "metadata": {
        "trusted": true
      },
      "execution_count": 3,
      "outputs": [
        {
          "execution_count": 3,
          "output_type": "execute_result",
          "data": {
            "text/plain": "3"
          },
          "metadata": {}
        }
      ]
    },
    {
      "cell_type": "code",
      "source": "# Equal Condition Example\n\nd = 5\nd == 6",
      "metadata": {
        "trusted": true
      },
      "execution_count": 6,
      "outputs": [
        {
          "execution_count": 6,
          "output_type": "execute_result",
          "data": {
            "text/plain": "False"
          },
          "metadata": {}
        }
      ]
    },
    {
      "cell_type": "code",
      "source": "# Greater than Sign Example\n\ni = 6\ni > 5",
      "metadata": {
        "trusted": true
      },
      "execution_count": 7,
      "outputs": [
        {
          "execution_count": 7,
          "output_type": "execute_result",
          "data": {
            "text/plain": "True"
          },
          "metadata": {}
        }
      ]
    },
    {
      "cell_type": "code",
      "source": "# Greater than Sign Example\n\ni = 2\ni > 5",
      "metadata": {
        "trusted": true
      },
      "execution_count": 8,
      "outputs": [
        {
          "execution_count": 8,
          "output_type": "execute_result",
          "data": {
            "text/plain": "False"
          },
          "metadata": {}
        }
      ]
    },
    {
      "cell_type": "code",
      "source": "# Inequality Sign Example\n\ni = 2\ni != 6",
      "metadata": {
        "trusted": true
      },
      "execution_count": 9,
      "outputs": [
        {
          "execution_count": 9,
          "output_type": "execute_result",
          "data": {
            "text/plain": "True"
          },
          "metadata": {}
        }
      ]
    },
    {
      "cell_type": "code",
      "source": "# Inequality Sign Example\n\ni = 6\ni != 6",
      "metadata": {
        "trusted": true
      },
      "execution_count": 10,
      "outputs": [
        {
          "execution_count": 10,
          "output_type": "execute_result",
          "data": {
            "text/plain": "False"
          },
          "metadata": {}
        }
      ]
    },
    {
      "cell_type": "code",
      "source": "# Using Equality Sign to Compare Strings Example\n\n\"William Chaudoin\" == \"Donald Duck\"",
      "metadata": {
        "trusted": true
      },
      "execution_count": 11,
      "outputs": [
        {
          "execution_count": 11,
          "output_type": "execute_result",
          "data": {
            "text/plain": "False"
          },
          "metadata": {}
        }
      ]
    },
    {
      "cell_type": "code",
      "source": "# Using the Inequality Sign to Compare Strings Example\n\n\"William Chaudoin\" != \"Donald Duck\"",
      "metadata": {
        "trusted": true
      },
      "execution_count": 13,
      "outputs": [
        {
          "execution_count": 13,
          "output_type": "execute_result",
          "data": {
            "text/plain": "True"
          },
          "metadata": {}
        }
      ]
    },
    {
      "cell_type": "code",
      "source": "# Comparing Characters Example\n\n'B' > 'A'",
      "metadata": {
        "trusted": true
      },
      "execution_count": 14,
      "outputs": [
        {
          "execution_count": 14,
          "output_type": "execute_result",
          "data": {
            "text/plain": "True"
          },
          "metadata": {}
        }
      ]
    },
    {
      "cell_type": "code",
      "source": "# Comparing Characters Example\n\n'BA' > 'AB'",
      "metadata": {
        "trusted": true
      },
      "execution_count": 15,
      "outputs": [
        {
          "execution_count": 15,
          "output_type": "execute_result",
          "data": {
            "text/plain": "True"
          },
          "metadata": {}
        }
      ]
    },
    {
      "cell_type": "markdown",
      "source": "# <center>Headings</center>\n# Level 1 Heading\n## Level 2 Heading\n### Level 3 Heading\n#### Level 4 Heading\n##### Level 5 Heading\n###### Level 6 Heading",
      "metadata": {}
    },
    {
      "cell_type": "markdown",
      "source": "# <center>Bold Text Examples</center>\n**Bold Text using asterisks.**  \n__Bold Text using underscores.__  \n<b>Bold Text using code</b>",
      "metadata": {
        "tags": []
      }
    },
    {
      "cell_type": "markdown",
      "source": "# <center>Italic Text Examples</center>\n***Bold and Italic text using asterisks.***  \n___Bold and Italic text using underscores.___  \n<i>Italic Text using code</i>",
      "metadata": {}
    },
    {
      "cell_type": "markdown",
      "source": "# <center>Hyperlink Example</center>\n[William Chaudoin on LinkedIn via hyperlink](https://www.linkedin.com/in/williamchaudoin/)",
      "metadata": {}
    },
    {
      "cell_type": "markdown",
      "source": "# <center>Images in Jupyter Example</center>\nHeadshot: ![Headshsot](https://avatars.githubusercontent.com/u/127374353?v=4)",
      "metadata": {}
    },
    {
      "cell_type": "markdown",
      "source": "## <center>Tables in Jupyter Example</center>\n| Program/Language Name | Subject |\n| -------------| ------ |\n| R/RStudio | Machine Learning |\n| SAS | Machine Learning |\n| Python | Machine Learning |\n| SQL | Analysis |\n| Microsoft Excel | Analysis |\n| Microsoft Power BI | Visualizations |\n| Windows PowerShell | Inventory Management |\n| ",
      "metadata": {}
    },
    {
      "cell_type": "markdown",
      "source": "# <center>Lists Example</center>\n- R/RStudio using dashes\n- SAS using dashes\n- Python using dashes\n- SQL item using dashes\n\n* R/RStudio using asterisks\n* SAS using asterisks\n* Python using asterisks\n* SQL using asterisks\n\n+ R/RStudio using plus\n+ SAS using plus\n+ Python using plus\n+ SQL using plus\n\n1. R/RStudio using numbers\n2. SAS using numbers\n3. Python using numbers\n4. SQL using numbers",
      "metadata": {}
    },
    {
      "cell_type": "markdown",
      "source": "<details><summary>A Clickable Hidden Cell Example</summary>\n\n```\n Hidden Code\n    \n```\n\n\n</details>",
      "metadata": {}
    }
  ]
}