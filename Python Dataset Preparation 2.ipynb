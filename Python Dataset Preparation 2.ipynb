{
  "metadata": {
    "language_info": {
      "codemirror_mode": {
        "name": "python",
        "version": 3
      },
      "file_extension": ".py",
      "mimetype": "text/x-python",
      "name": "python",
      "nbconvert_exporter": "python",
      "pygments_lexer": "ipython3",
      "version": "3.8"
    },
    "kernelspec": {
      "name": "python",
      "display_name": "Python (Pyodide)",
      "language": "python"
    }
  },
  "nbformat_minor": 4,
  "nbformat": 4,
  "cells": [
    {
      "cell_type": "markdown",
      "source": "# <center>Python Dataset Preparation and Analysis 2 by William Chaudoin</center>",
      "metadata": {
        "tags": []
      }
    },
    {
      "cell_type": "code",
      "source": "# Installing libraries\nimport piplite\nawait piplite.install(['numpy'],['pandas'])",
      "metadata": {
        "trusted": true
      },
      "execution_count": 16,
      "outputs": []
    },
    {
      "cell_type": "code",
      "source": "# Importing libraries and giving them specific names\nimport pandas as pd\nimport numpy as np",
      "metadata": {
        "trusted": true
      },
      "execution_count": 17,
      "outputs": []
    },
    {
      "cell_type": "code",
      "source": "# Attaching dataset using javascript fetch library\n# Dataset comes from Data.gov and details United States COVID-19 Cases and Deaths by State over Time\nfrom js import fetch\nimport io\n\nURL = \"https://data.cdc.gov/api/views/9mfq-cb36/rows.csv\"\nresp = await fetch(URL)\nother_path = io.BytesIO((await resp.arrayBuffer()).to_py())",
      "metadata": {
        "trusted": true
      },
      "execution_count": 18,
      "outputs": []
    },
    {
      "cell_type": "code",
      "source": "# Reading file and attaching it to an object as a dataframe\ndf = pd.read_csv(other_path, header=None)",
      "metadata": {
        "trusted": true
      },
      "execution_count": 19,
      "outputs": []
    },
    {
      "cell_type": "code",
      "source": "# Viewing dataframe\ndf.head(10)",
      "metadata": {
        "trusted": true
      },
      "execution_count": 20,
      "outputs": [
        {
          "execution_count": 20,
          "output_type": "execute_result",
          "data": {
            "text/plain": "                0      1          2           3           4         5   \\\n0  submission_date  state  tot_cases  conf_cases  prob_cases  new_case   \n1       03/11/2021     KS     297229      241035       56194         0   \n2       12/01/2021     ND     163565      135705       27860       589   \n3       01/02/2022     AS         11         NaN         NaN         0   \n4       11/22/2021     AL     841461      620483      220978       703   \n5       05/30/2022     AK     251425         NaN         NaN         0   \n6       05/17/2020    RMI          0           0           0         0   \n7       04/03/2020     ND        173         NaN         NaN        14   \n8       09/04/2021     PR     173967      144788       29179       667   \n9       05/09/2021     PW          0         NaN         NaN         0   \n\n          6          7           8           9          10          11  \\\n0  pnew_case  tot_death  conf_death  prob_death  new_death  pnew_death   \n1          0       4851         NaN         NaN          0           0   \n2        220       1907         NaN         NaN          9           0   \n3          0          0         NaN         NaN          0           0   \n4        357      16377       12727        3650          7           3   \n5          0       1252         NaN         NaN          0           0   \n6          0          0           0           0          0           0   \n7        NaN          3         NaN         NaN          0         NaN   \n8        274       2911        2482         429          8           3   \n9          0          0         NaN         NaN          0           0   \n\n                       12             13              14  \n0              created_at  consent_cases  consent_deaths  \n1  03/12/2021 03:20:13 PM          Agree             NaN  \n2  12/02/2021 02:35:20 PM          Agree       Not agree  \n3  01/03/2022 03:18:16 PM            NaN             NaN  \n4  11/22/2021 12:00:00 AM          Agree           Agree  \n5  05/31/2022 01:20:20 PM            NaN             NaN  \n6  05/18/2020 04:01:54 PM          Agree           Agree  \n7  04/03/2020 04:22:39 PM          Agree       Not agree  \n8  09/04/2021 12:00:00 AM          Agree           Agree  \n9  05/10/2021 02:15:36 PM            NaN             NaN  ",
            "text/html": "<div>\n<style scoped>\n    .dataframe tbody tr th:only-of-type {\n        vertical-align: middle;\n    }\n\n    .dataframe tbody tr th {\n        vertical-align: top;\n    }\n\n    .dataframe thead th {\n        text-align: right;\n    }\n</style>\n<table border=\"1\" class=\"dataframe\">\n  <thead>\n    <tr style=\"text-align: right;\">\n      <th></th>\n      <th>0</th>\n      <th>1</th>\n      <th>2</th>\n      <th>3</th>\n      <th>4</th>\n      <th>5</th>\n      <th>6</th>\n      <th>7</th>\n      <th>8</th>\n      <th>9</th>\n      <th>10</th>\n      <th>11</th>\n      <th>12</th>\n      <th>13</th>\n      <th>14</th>\n    </tr>\n  </thead>\n  <tbody>\n    <tr>\n      <th>0</th>\n      <td>submission_date</td>\n      <td>state</td>\n      <td>tot_cases</td>\n      <td>conf_cases</td>\n      <td>prob_cases</td>\n      <td>new_case</td>\n      <td>pnew_case</td>\n      <td>tot_death</td>\n      <td>conf_death</td>\n      <td>prob_death</td>\n      <td>new_death</td>\n      <td>pnew_death</td>\n      <td>created_at</td>\n      <td>consent_cases</td>\n      <td>consent_deaths</td>\n    </tr>\n    <tr>\n      <th>1</th>\n      <td>03/11/2021</td>\n      <td>KS</td>\n      <td>297229</td>\n      <td>241035</td>\n      <td>56194</td>\n      <td>0</td>\n      <td>0</td>\n      <td>4851</td>\n      <td>NaN</td>\n      <td>NaN</td>\n      <td>0</td>\n      <td>0</td>\n      <td>03/12/2021 03:20:13 PM</td>\n      <td>Agree</td>\n      <td>NaN</td>\n    </tr>\n    <tr>\n      <th>2</th>\n      <td>12/01/2021</td>\n      <td>ND</td>\n      <td>163565</td>\n      <td>135705</td>\n      <td>27860</td>\n      <td>589</td>\n      <td>220</td>\n      <td>1907</td>\n      <td>NaN</td>\n      <td>NaN</td>\n      <td>9</td>\n      <td>0</td>\n      <td>12/02/2021 02:35:20 PM</td>\n      <td>Agree</td>\n      <td>Not agree</td>\n    </tr>\n    <tr>\n      <th>3</th>\n      <td>01/02/2022</td>\n      <td>AS</td>\n      <td>11</td>\n      <td>NaN</td>\n      <td>NaN</td>\n      <td>0</td>\n      <td>0</td>\n      <td>0</td>\n      <td>NaN</td>\n      <td>NaN</td>\n      <td>0</td>\n      <td>0</td>\n      <td>01/03/2022 03:18:16 PM</td>\n      <td>NaN</td>\n      <td>NaN</td>\n    </tr>\n    <tr>\n      <th>4</th>\n      <td>11/22/2021</td>\n      <td>AL</td>\n      <td>841461</td>\n      <td>620483</td>\n      <td>220978</td>\n      <td>703</td>\n      <td>357</td>\n      <td>16377</td>\n      <td>12727</td>\n      <td>3650</td>\n      <td>7</td>\n      <td>3</td>\n      <td>11/22/2021 12:00:00 AM</td>\n      <td>Agree</td>\n      <td>Agree</td>\n    </tr>\n    <tr>\n      <th>5</th>\n      <td>05/30/2022</td>\n      <td>AK</td>\n      <td>251425</td>\n      <td>NaN</td>\n      <td>NaN</td>\n      <td>0</td>\n      <td>0</td>\n      <td>1252</td>\n      <td>NaN</td>\n      <td>NaN</td>\n      <td>0</td>\n      <td>0</td>\n      <td>05/31/2022 01:20:20 PM</td>\n      <td>NaN</td>\n      <td>NaN</td>\n    </tr>\n    <tr>\n      <th>6</th>\n      <td>05/17/2020</td>\n      <td>RMI</td>\n      <td>0</td>\n      <td>0</td>\n      <td>0</td>\n      <td>0</td>\n      <td>0</td>\n      <td>0</td>\n      <td>0</td>\n      <td>0</td>\n      <td>0</td>\n      <td>0</td>\n      <td>05/18/2020 04:01:54 PM</td>\n      <td>Agree</td>\n      <td>Agree</td>\n    </tr>\n    <tr>\n      <th>7</th>\n      <td>04/03/2020</td>\n      <td>ND</td>\n      <td>173</td>\n      <td>NaN</td>\n      <td>NaN</td>\n      <td>14</td>\n      <td>NaN</td>\n      <td>3</td>\n      <td>NaN</td>\n      <td>NaN</td>\n      <td>0</td>\n      <td>NaN</td>\n      <td>04/03/2020 04:22:39 PM</td>\n      <td>Agree</td>\n      <td>Not agree</td>\n    </tr>\n    <tr>\n      <th>8</th>\n      <td>09/04/2021</td>\n      <td>PR</td>\n      <td>173967</td>\n      <td>144788</td>\n      <td>29179</td>\n      <td>667</td>\n      <td>274</td>\n      <td>2911</td>\n      <td>2482</td>\n      <td>429</td>\n      <td>8</td>\n      <td>3</td>\n      <td>09/04/2021 12:00:00 AM</td>\n      <td>Agree</td>\n      <td>Agree</td>\n    </tr>\n    <tr>\n      <th>9</th>\n      <td>05/09/2021</td>\n      <td>PW</td>\n      <td>0</td>\n      <td>NaN</td>\n      <td>NaN</td>\n      <td>0</td>\n      <td>0</td>\n      <td>0</td>\n      <td>NaN</td>\n      <td>NaN</td>\n      <td>0</td>\n      <td>0</td>\n      <td>05/10/2021 02:15:36 PM</td>\n      <td>NaN</td>\n      <td>NaN</td>\n    </tr>\n  </tbody>\n</table>\n</div>"
          },
          "metadata": {}
        }
      ]
    },
    {
      "cell_type": "code",
      "source": "# Adjusting column names to row 0 and then dropping that row from the dataframe. Finally viewing the dataset to confirm change\ndf.columns=df.iloc[0]\ndf.drop([0], axis=0, inplace=True)\ndf.head()",
      "metadata": {
        "trusted": true
      },
      "execution_count": 21,
      "outputs": [
        {
          "execution_count": 21,
          "output_type": "execute_result",
          "data": {
            "text/plain": "0 submission_date state tot_cases conf_cases prob_cases new_case pnew_case  \\\n1      03/11/2021    KS    297229     241035      56194        0         0   \n2      12/01/2021    ND    163565     135705      27860      589       220   \n3      01/02/2022    AS        11        NaN        NaN        0         0   \n4      11/22/2021    AL    841461     620483     220978      703       357   \n5      05/30/2022    AK    251425        NaN        NaN        0         0   \n\n0 tot_death conf_death prob_death new_death pnew_death  \\\n1      4851        NaN        NaN         0          0   \n2      1907        NaN        NaN         9          0   \n3         0        NaN        NaN         0          0   \n4     16377      12727       3650         7          3   \n5      1252        NaN        NaN         0          0   \n\n0              created_at consent_cases consent_deaths  \n1  03/12/2021 03:20:13 PM         Agree            NaN  \n2  12/02/2021 02:35:20 PM         Agree      Not agree  \n3  01/03/2022 03:18:16 PM           NaN            NaN  \n4  11/22/2021 12:00:00 AM         Agree          Agree  \n5  05/31/2022 01:20:20 PM           NaN            NaN  ",
            "text/html": "<div>\n<style scoped>\n    .dataframe tbody tr th:only-of-type {\n        vertical-align: middle;\n    }\n\n    .dataframe tbody tr th {\n        vertical-align: top;\n    }\n\n    .dataframe thead th {\n        text-align: right;\n    }\n</style>\n<table border=\"1\" class=\"dataframe\">\n  <thead>\n    <tr style=\"text-align: right;\">\n      <th></th>\n      <th>submission_date</th>\n      <th>state</th>\n      <th>tot_cases</th>\n      <th>conf_cases</th>\n      <th>prob_cases</th>\n      <th>new_case</th>\n      <th>pnew_case</th>\n      <th>tot_death</th>\n      <th>conf_death</th>\n      <th>prob_death</th>\n      <th>new_death</th>\n      <th>pnew_death</th>\n      <th>created_at</th>\n      <th>consent_cases</th>\n      <th>consent_deaths</th>\n    </tr>\n  </thead>\n  <tbody>\n    <tr>\n      <th>1</th>\n      <td>03/11/2021</td>\n      <td>KS</td>\n      <td>297229</td>\n      <td>241035</td>\n      <td>56194</td>\n      <td>0</td>\n      <td>0</td>\n      <td>4851</td>\n      <td>NaN</td>\n      <td>NaN</td>\n      <td>0</td>\n      <td>0</td>\n      <td>03/12/2021 03:20:13 PM</td>\n      <td>Agree</td>\n      <td>NaN</td>\n    </tr>\n    <tr>\n      <th>2</th>\n      <td>12/01/2021</td>\n      <td>ND</td>\n      <td>163565</td>\n      <td>135705</td>\n      <td>27860</td>\n      <td>589</td>\n      <td>220</td>\n      <td>1907</td>\n      <td>NaN</td>\n      <td>NaN</td>\n      <td>9</td>\n      <td>0</td>\n      <td>12/02/2021 02:35:20 PM</td>\n      <td>Agree</td>\n      <td>Not agree</td>\n    </tr>\n    <tr>\n      <th>3</th>\n      <td>01/02/2022</td>\n      <td>AS</td>\n      <td>11</td>\n      <td>NaN</td>\n      <td>NaN</td>\n      <td>0</td>\n      <td>0</td>\n      <td>0</td>\n      <td>NaN</td>\n      <td>NaN</td>\n      <td>0</td>\n      <td>0</td>\n      <td>01/03/2022 03:18:16 PM</td>\n      <td>NaN</td>\n      <td>NaN</td>\n    </tr>\n    <tr>\n      <th>4</th>\n      <td>11/22/2021</td>\n      <td>AL</td>\n      <td>841461</td>\n      <td>620483</td>\n      <td>220978</td>\n      <td>703</td>\n      <td>357</td>\n      <td>16377</td>\n      <td>12727</td>\n      <td>3650</td>\n      <td>7</td>\n      <td>3</td>\n      <td>11/22/2021 12:00:00 AM</td>\n      <td>Agree</td>\n      <td>Agree</td>\n    </tr>\n    <tr>\n      <th>5</th>\n      <td>05/30/2022</td>\n      <td>AK</td>\n      <td>251425</td>\n      <td>NaN</td>\n      <td>NaN</td>\n      <td>0</td>\n      <td>0</td>\n      <td>1252</td>\n      <td>NaN</td>\n      <td>NaN</td>\n      <td>0</td>\n      <td>0</td>\n      <td>05/31/2022 01:20:20 PM</td>\n      <td>NaN</td>\n      <td>NaN</td>\n    </tr>\n  </tbody>\n</table>\n</div>"
          },
          "metadata": {}
        }
      ]
    },
    {
      "cell_type": "code",
      "source": "# Checking df shape\ndf.shape",
      "metadata": {
        "trusted": true
      },
      "execution_count": 22,
      "outputs": [
        {
          "execution_count": 22,
          "output_type": "execute_result",
          "data": {
            "text/plain": "(60060, 15)"
          },
          "metadata": {}
        }
      ]
    },
    {
      "cell_type": "code",
      "source": "# Checking for null values\ndf.isnull().values.any()",
      "metadata": {
        "trusted": true
      },
      "execution_count": 23,
      "outputs": [
        {
          "execution_count": 23,
          "output_type": "execute_result",
          "data": {
            "text/plain": "True"
          },
          "metadata": {}
        }
      ]
    },
    {
      "cell_type": "code",
      "source": "# Identifying where those null values are located\ndf.isnull().sum()",
      "metadata": {
        "trusted": true
      },
      "execution_count": 24,
      "outputs": [
        {
          "execution_count": 24,
          "output_type": "execute_result",
          "data": {
            "text/plain": "0\nsubmission_date        0\nstate                  0\ntot_cases              0\nconf_cases         26026\nprob_cases         26098\nnew_case               0\npnew_case           3526\ntot_death              0\nconf_death         26787\nprob_death         26787\nnew_death              0\npnew_death          3494\ncreated_at             0\nconsent_cases      10015\nconsent_deaths      9009\ndtype: int64"
          },
          "metadata": {}
        }
      ]
    },
    {
      "cell_type": "code",
      "source": "# Replacing null values with median of each variable\ndf['conf_cases'] = df['conf_cases'].fillna(df['conf_cases'].median())\ndf['prob_cases'] = df['prob_cases'].fillna(df['prob_cases'].median())\ndf['pnew_case'] = df['pnew_case'].fillna(df['pnew_case'].median())\ndf['conf_death'] = df['conf_death'].fillna(df['conf_death'].median())\ndf['prob_death'] = df['prob_death'].fillna(df['prob_death'].median())\ndf['pnew_death'] = df['pnew_death'].fillna(df['pnew_death'].median())",
      "metadata": {
        "trusted": true
      },
      "execution_count": 25,
      "outputs": []
    },
    {
      "cell_type": "code",
      "source": "# Verifying numerical variables no longer contain null values\ndf.isnull().sum()",
      "metadata": {
        "trusted": true
      },
      "execution_count": 35,
      "outputs": [
        {
          "execution_count": 35,
          "output_type": "execute_result",
          "data": {
            "text/plain": "0\nsubmission_date        0\nstate                  0\ntot_cases              0\nconf_cases             0\nprob_cases             0\nnew_case               0\npnew_case              0\ntot_death              0\nconf_death             0\nprob_death             0\nnew_death              0\npnew_death             0\ncreated_at             0\nconsent_cases      10015\nconsent_deaths      9009\ndtype: int64"
          },
          "metadata": {}
        }
      ]
    },
    {
      "cell_type": "code",
      "source": "# Viewing cleaned data\ndf.head()",
      "metadata": {
        "trusted": true
      },
      "execution_count": 38,
      "outputs": [
        {
          "execution_count": 38,
          "output_type": "execute_result",
          "data": {
            "text/plain": "0 submission_date state tot_cases conf_cases prob_cases new_case pnew_case  \\\n1      03/11/2021    KS    297229     241035      56194        0         0   \n2      12/01/2021    ND    163565     135705      27860      589       220   \n3      01/02/2022    AS        11   299246.0    32175.0        0         0   \n4      11/22/2021    AL    841461     620483     220978      703       357   \n5      05/30/2022    AK    251425   299246.0    32175.0        0         0   \n\n0 tot_death conf_death prob_death new_death pnew_death  \\\n1      4851     5193.0      309.0         0          0   \n2      1907     5193.0      309.0         9          0   \n3         0     5193.0      309.0         0          0   \n4     16377      12727       3650         7          3   \n5      1252     5193.0      309.0         0          0   \n\n0              created_at consent_cases consent_deaths  \n1  03/12/2021 03:20:13 PM         Agree            NaN  \n2  12/02/2021 02:35:20 PM         Agree      Not agree  \n3  01/03/2022 03:18:16 PM           NaN            NaN  \n4  11/22/2021 12:00:00 AM         Agree          Agree  \n5  05/31/2022 01:20:20 PM           NaN            NaN  ",
            "text/html": "<div>\n<style scoped>\n    .dataframe tbody tr th:only-of-type {\n        vertical-align: middle;\n    }\n\n    .dataframe tbody tr th {\n        vertical-align: top;\n    }\n\n    .dataframe thead th {\n        text-align: right;\n    }\n</style>\n<table border=\"1\" class=\"dataframe\">\n  <thead>\n    <tr style=\"text-align: right;\">\n      <th></th>\n      <th>submission_date</th>\n      <th>state</th>\n      <th>tot_cases</th>\n      <th>conf_cases</th>\n      <th>prob_cases</th>\n      <th>new_case</th>\n      <th>pnew_case</th>\n      <th>tot_death</th>\n      <th>conf_death</th>\n      <th>prob_death</th>\n      <th>new_death</th>\n      <th>pnew_death</th>\n      <th>created_at</th>\n      <th>consent_cases</th>\n      <th>consent_deaths</th>\n    </tr>\n  </thead>\n  <tbody>\n    <tr>\n      <th>1</th>\n      <td>03/11/2021</td>\n      <td>KS</td>\n      <td>297229</td>\n      <td>241035</td>\n      <td>56194</td>\n      <td>0</td>\n      <td>0</td>\n      <td>4851</td>\n      <td>5193.0</td>\n      <td>309.0</td>\n      <td>0</td>\n      <td>0</td>\n      <td>03/12/2021 03:20:13 PM</td>\n      <td>Agree</td>\n      <td>NaN</td>\n    </tr>\n    <tr>\n      <th>2</th>\n      <td>12/01/2021</td>\n      <td>ND</td>\n      <td>163565</td>\n      <td>135705</td>\n      <td>27860</td>\n      <td>589</td>\n      <td>220</td>\n      <td>1907</td>\n      <td>5193.0</td>\n      <td>309.0</td>\n      <td>9</td>\n      <td>0</td>\n      <td>12/02/2021 02:35:20 PM</td>\n      <td>Agree</td>\n      <td>Not agree</td>\n    </tr>\n    <tr>\n      <th>3</th>\n      <td>01/02/2022</td>\n      <td>AS</td>\n      <td>11</td>\n      <td>299246.0</td>\n      <td>32175.0</td>\n      <td>0</td>\n      <td>0</td>\n      <td>0</td>\n      <td>5193.0</td>\n      <td>309.0</td>\n      <td>0</td>\n      <td>0</td>\n      <td>01/03/2022 03:18:16 PM</td>\n      <td>NaN</td>\n      <td>NaN</td>\n    </tr>\n    <tr>\n      <th>4</th>\n      <td>11/22/2021</td>\n      <td>AL</td>\n      <td>841461</td>\n      <td>620483</td>\n      <td>220978</td>\n      <td>703</td>\n      <td>357</td>\n      <td>16377</td>\n      <td>12727</td>\n      <td>3650</td>\n      <td>7</td>\n      <td>3</td>\n      <td>11/22/2021 12:00:00 AM</td>\n      <td>Agree</td>\n      <td>Agree</td>\n    </tr>\n    <tr>\n      <th>5</th>\n      <td>05/30/2022</td>\n      <td>AK</td>\n      <td>251425</td>\n      <td>299246.0</td>\n      <td>32175.0</td>\n      <td>0</td>\n      <td>0</td>\n      <td>1252</td>\n      <td>5193.0</td>\n      <td>309.0</td>\n      <td>0</td>\n      <td>0</td>\n      <td>05/31/2022 01:20:20 PM</td>\n      <td>NaN</td>\n      <td>NaN</td>\n    </tr>\n  </tbody>\n</table>\n</div>"
          },
          "metadata": {}
        }
      ]
    },
    {
      "cell_type": "code",
      "source": "# Gathering info about dataset\ndf.info()",
      "metadata": {
        "trusted": true
      },
      "execution_count": 36,
      "outputs": [
        {
          "name": "stdout",
          "text": "<class 'pandas.core.frame.DataFrame'>\nRangeIndex: 60060 entries, 1 to 60060\nData columns (total 15 columns):\n #   Column           Non-Null Count  Dtype \n---  ------           --------------  ----- \n 0   submission_date  60060 non-null  object\n 1   state            60060 non-null  object\n 2   tot_cases        60060 non-null  object\n 3   conf_cases       60060 non-null  object\n 4   prob_cases       60060 non-null  object\n 5   new_case         60060 non-null  object\n 6   pnew_case        60060 non-null  object\n 7   tot_death        60060 non-null  object\n 8   conf_death       60060 non-null  object\n 9   prob_death       60060 non-null  object\n 10  new_death        60060 non-null  object\n 11  pnew_death       60060 non-null  object\n 12  created_at       60060 non-null  object\n 13  consent_cases    50045 non-null  object\n 14  consent_deaths   51051 non-null  object\ndtypes: object(15)\nmemory usage: 3.4+ MB\n",
          "output_type": "stream"
        }
      ]
    },
    {
      "cell_type": "code",
      "source": "# Changing data types\ndf['tot_cases'] = df['tot_cases'].astype(int)\ndf['conf_cases'] = df['conf_cases'].astype(int)\ndf['prob_cases'] = df['prob_cases'].astype(int)\ndf['new_case'] = df['new_case'].astype(int)\ndf['pnew_case'] = df['pnew_case'].astype(int)\ndf['tot_death'] = df['tot_death'].astype(int)\ndf['conf_death'] = df['conf_death'].astype(int)\ndf['prob_death'] = df['prob_death'].astype(int)\ndf['new_death'] = df['new_death'].astype(int)\ndf['pnew_death'] = df['pnew_death'].astype(int)\n",
      "metadata": {
        "trusted": true
      },
      "execution_count": 39,
      "outputs": []
    },
    {
      "cell_type": "code",
      "source": "# Confirming change\ndf.dtypes",
      "metadata": {
        "trusted": true
      },
      "execution_count": 40,
      "outputs": [
        {
          "execution_count": 40,
          "output_type": "execute_result",
          "data": {
            "text/plain": "0\nsubmission_date    object\nstate              object\ntot_cases           int32\nconf_cases          int32\nprob_cases          int32\nnew_case            int32\npnew_case           int32\ntot_death           int32\nconf_death          int32\nprob_death          int32\nnew_death           int32\npnew_death          int32\ncreated_at         object\nconsent_cases      object\nconsent_deaths     object\ndtype: object"
          },
          "metadata": {}
        }
      ]
    },
    {
      "cell_type": "code",
      "source": "# Describing data\ndf.describe()",
      "metadata": {
        "trusted": true
      },
      "execution_count": 43,
      "outputs": [
        {
          "execution_count": 43,
          "output_type": "execute_result",
          "data": {
            "text/plain": "0         tot_cases    conf_cases     prob_cases       new_case  \\\ncount  6.006000e+04  6.006000e+04   60060.000000   60060.000000   \nmean   6.569641e+05  4.995929e+05   74688.262737    1601.409574   \nstd    1.173490e+06  8.299557e+05  124480.943661    5074.263900   \nmin    0.000000e+00  0.000000e+00       0.000000  -10199.000000   \n25%    1.830325e+04  2.187252e+05   17060.000000       3.000000   \n50%    2.228415e+05  2.992460e+05   32175.000000     344.000000   \n75%    8.158552e+05  3.798208e+05   53761.750000    1435.000000   \nmax    1.130924e+07  1.045879e+07  850445.000000  319809.000000   \n\n0          pnew_case     tot_death    conf_death    prob_death     new_death  \\\ncount   60060.000000  60060.000000  60060.000000  60060.000000  60060.000000   \nmean      251.656843   9351.235648   7310.901515    743.471528     17.365335   \nstd      1397.689958  14591.369916   7993.680562   1217.186460     43.499174   \nmin   -171804.000000      0.000000      0.000000      0.000000   -352.000000   \n25%         0.000000    361.000000   3878.000000    240.000000      0.000000   \n50%         1.000000   3241.000000   5193.000000    309.000000      3.000000   \n75%       152.000000  12353.250000   6677.000000    387.000000     16.000000   \nmax    171617.000000  95604.000000  71408.000000   7889.000000   1178.000000   \n\n0        pnew_death  \ncount  60060.000000  \nmean       1.719381  \nstd       23.813774  \nmin    -2594.000000  \n25%        0.000000  \n50%        0.000000  \n75%        0.000000  \nmax     2919.000000  ",
            "text/html": "<div>\n<style scoped>\n    .dataframe tbody tr th:only-of-type {\n        vertical-align: middle;\n    }\n\n    .dataframe tbody tr th {\n        vertical-align: top;\n    }\n\n    .dataframe thead th {\n        text-align: right;\n    }\n</style>\n<table border=\"1\" class=\"dataframe\">\n  <thead>\n    <tr style=\"text-align: right;\">\n      <th></th>\n      <th>tot_cases</th>\n      <th>conf_cases</th>\n      <th>prob_cases</th>\n      <th>new_case</th>\n      <th>pnew_case</th>\n      <th>tot_death</th>\n      <th>conf_death</th>\n      <th>prob_death</th>\n      <th>new_death</th>\n      <th>pnew_death</th>\n    </tr>\n  </thead>\n  <tbody>\n    <tr>\n      <th>count</th>\n      <td>6.006000e+04</td>\n      <td>6.006000e+04</td>\n      <td>60060.000000</td>\n      <td>60060.000000</td>\n      <td>60060.000000</td>\n      <td>60060.000000</td>\n      <td>60060.000000</td>\n      <td>60060.000000</td>\n      <td>60060.000000</td>\n      <td>60060.000000</td>\n    </tr>\n    <tr>\n      <th>mean</th>\n      <td>6.569641e+05</td>\n      <td>4.995929e+05</td>\n      <td>74688.262737</td>\n      <td>1601.409574</td>\n      <td>251.656843</td>\n      <td>9351.235648</td>\n      <td>7310.901515</td>\n      <td>743.471528</td>\n      <td>17.365335</td>\n      <td>1.719381</td>\n    </tr>\n    <tr>\n      <th>std</th>\n      <td>1.173490e+06</td>\n      <td>8.299557e+05</td>\n      <td>124480.943661</td>\n      <td>5074.263900</td>\n      <td>1397.689958</td>\n      <td>14591.369916</td>\n      <td>7993.680562</td>\n      <td>1217.186460</td>\n      <td>43.499174</td>\n      <td>23.813774</td>\n    </tr>\n    <tr>\n      <th>min</th>\n      <td>0.000000e+00</td>\n      <td>0.000000e+00</td>\n      <td>0.000000</td>\n      <td>-10199.000000</td>\n      <td>-171804.000000</td>\n      <td>0.000000</td>\n      <td>0.000000</td>\n      <td>0.000000</td>\n      <td>-352.000000</td>\n      <td>-2594.000000</td>\n    </tr>\n    <tr>\n      <th>25%</th>\n      <td>1.830325e+04</td>\n      <td>2.187252e+05</td>\n      <td>17060.000000</td>\n      <td>3.000000</td>\n      <td>0.000000</td>\n      <td>361.000000</td>\n      <td>3878.000000</td>\n      <td>240.000000</td>\n      <td>0.000000</td>\n      <td>0.000000</td>\n    </tr>\n    <tr>\n      <th>50%</th>\n      <td>2.228415e+05</td>\n      <td>2.992460e+05</td>\n      <td>32175.000000</td>\n      <td>344.000000</td>\n      <td>1.000000</td>\n      <td>3241.000000</td>\n      <td>5193.000000</td>\n      <td>309.000000</td>\n      <td>3.000000</td>\n      <td>0.000000</td>\n    </tr>\n    <tr>\n      <th>75%</th>\n      <td>8.158552e+05</td>\n      <td>3.798208e+05</td>\n      <td>53761.750000</td>\n      <td>1435.000000</td>\n      <td>152.000000</td>\n      <td>12353.250000</td>\n      <td>6677.000000</td>\n      <td>387.000000</td>\n      <td>16.000000</td>\n      <td>0.000000</td>\n    </tr>\n    <tr>\n      <th>max</th>\n      <td>1.130924e+07</td>\n      <td>1.045879e+07</td>\n      <td>850445.000000</td>\n      <td>319809.000000</td>\n      <td>171617.000000</td>\n      <td>95604.000000</td>\n      <td>71408.000000</td>\n      <td>7889.000000</td>\n      <td>1178.000000</td>\n      <td>2919.000000</td>\n    </tr>\n  </tbody>\n</table>\n</div>"
          },
          "metadata": {}
        }
      ]
    },
    {
      "cell_type": "code",
      "source": "# Histogram of random variable\nimport matplotlib.pyplot as pyplot\npyplot.hist(df['tot_cases'])",
      "metadata": {
        "trusted": true
      },
      "execution_count": 45,
      "outputs": [
        {
          "execution_count": 45,
          "output_type": "execute_result",
          "data": {
            "text/plain": "(array([49480.,  6330.,  2685.,   580.,   168.,   299.,   251.,    55.,\n          106.,   106.]),\n array([       0. ,  1130923.7,  2261847.4,  3392771.1,  4523694.8,\n         5654618.5,  6785542.2,  7916465.9,  9047389.6, 10178313.3,\n        11309237. ]),\n <BarContainer object of 10 artists>)"
          },
          "metadata": {}
        },
        {
          "output_type": "display_data",
          "data": {
            "text/plain": "<Figure size 640x480 with 1 Axes>",
            "image/png": "[encoded data removed]"
          },
          "metadata": {}
        }
      ]
    },
    {
      "cell_type": "code",
      "source": "# Saving new dataset as a csv\ndf.to_csv(\"covid.csv\", index=False)",
      "metadata": {
        "trusted": true
      },
      "execution_count": 47,
      "outputs": []
    }
  ]
}