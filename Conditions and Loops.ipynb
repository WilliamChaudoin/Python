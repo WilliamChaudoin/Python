{
  "metadata": {
    "language_info": {
      "codemirror_mode": {
        "name": "python",
        "version": 3
      },
      "file_extension": ".py",
      "mimetype": "text/x-python",
      "name": "python",
      "nbconvert_exporter": "python",
      "pygments_lexer": "ipython3",
      "version": "3.8"
    },
    "kernelspec": {
      "name": "python",
      "display_name": "Python (Pyodide)",
      "language": "python"
    }
  },
  "nbformat_minor": 4,
  "nbformat": 4,
  "cells": [
    {
      "cell_type": "markdown",
      "source": "# <center> Conditions and Loops by William Chaudoin</center>",
      "metadata": {}
    },
    {
      "cell_type": "code",
      "source": "# If Statement Example\nYear = 2020\nif Year > 2019:\n    print(\"New Decade\")",
      "metadata": {
        "trusted": true
      },
      "execution_count": 53,
      "outputs": [
        {
          "name": "stdout",
          "text": "New Decade\n",
          "output_type": "stream"
        }
      ]
    },
    {
      "cell_type": "code",
      "source": "# Else Statement Example\nYear = 2018\nif Year > 2019:\n    print(\"New Decade\")\nelse:\n    print(\"Not a New Decade\" )",
      "metadata": {
        "trusted": true
      },
      "execution_count": 54,
      "outputs": [
        {
          "name": "stdout",
          "text": "Not a New Decade\n",
          "output_type": "stream"
        }
      ]
    },
    {
      "cell_type": "code",
      "source": "# Else-If Statment Example\nYear = 2020\nif Year > 2021:\n    print(\"New Decade\")\nelif Year == 2020:\n    print(\"It's 2020\")    \nelse:\n    print(\"Not a New Decade\" )",
      "metadata": {
        "trusted": true
      },
      "execution_count": 55,
      "outputs": [
        {
          "name": "stdout",
          "text": "It's 2020\n",
          "output_type": "stream"
        }
      ]
    },
    {
      "cell_type": "code",
      "source": "# Condition Statement Example\nevent_year = 2021\nif(event_year > 2020) and (event_year < 2022):\n    print (\"Event Occured During Pandemic\")",
      "metadata": {
        "trusted": true
      },
      "execution_count": 56,
      "outputs": [
        {
          "name": "stdout",
          "text": "Event Occured During Pandemic\n",
          "output_type": "stream"
        }
      ]
    },
    {
      "cell_type": "code",
      "source": "# Condition Statement Example 2\nevent_year = 2021\nif(event_year > 2020) or (event_year < 2022):\n    print (\"Event Occured During Pandemic\")",
      "metadata": {
        "trusted": true
      },
      "execution_count": 57,
      "outputs": [
        {
          "name": "stdout",
          "text": "Event Occured During Pandemic\n",
          "output_type": "stream"
        }
      ]
    },
    {
      "cell_type": "code",
      "source": "# Condition Statement Example 3\nevent_year = 2021\nif not (event_year == 2019):\n    print (\"Event Did Not Occur Before Pandemic\")",
      "metadata": {
        "trusted": true
      },
      "execution_count": 58,
      "outputs": [
        {
          "name": "stdout",
          "text": "Event Did Not Occur Before Pandemic\n",
          "output_type": "stream"
        }
      ]
    },
    {
      "cell_type": "code",
      "source": "# For loop Example 1\nfor i in range(-10, 11):\n    print(i)",
      "metadata": {
        "trusted": true
      },
      "execution_count": 59,
      "outputs": [
        {
          "name": "stdout",
          "text": "-10\n-9\n-8\n-7\n-6\n-5\n-4\n-3\n-2\n-1\n0\n1\n2\n3\n4\n5\n6\n7\n8\n9\n10\n",
          "output_type": "stream"
        }
      ]
    },
    {
      "cell_type": "code",
      "source": "# For loop Example 2\n\nYears = [2019, 2020, 2021, 2022]\nN = len(Years)\n\nfor i in range(N):\n    print(Years[i])     ",
      "metadata": {
        "trusted": true
      },
      "execution_count": 60,
      "outputs": [
        {
          "name": "stdout",
          "text": "2019\n2020\n2021\n2022\n",
          "output_type": "stream"
        }
      ]
    },
    {
      "cell_type": "code",
      "source": "# For loop Example 3\nfor year in Years:  \n    print(year)   ",
      "metadata": {
        "trusted": true
      },
      "execution_count": 61,
      "outputs": [
        {
          "name": "stdout",
          "text": "2019\n2020\n2021\n2022\n",
          "output_type": "stream"
        }
      ]
    },
    {
      "cell_type": "code",
      "source": "# For loop Example 4\nevents = [\"Double or Nothing 2020\", \"All Out 2019\", \"Full Gear 2021\", \n              \"Revolution 2021\", \"Double or Nothing 2022\", \"All Out 2020\"]\n\nfor i in range(0, 6):\n    print(\"Before Event\", i, 'is',  events[i])\n    events[i] = 'Event'\n    print(\"After Event \", i, 'is',  events[i])",
      "metadata": {
        "trusted": true
      },
      "execution_count": 63,
      "outputs": [
        {
          "name": "stdout",
          "text": "Before Event 0 is Double or Nothing 2020\nAfter Event  0 is Event\nBefore Event 1 is All Out 2019\nAfter Event  1 is Event\nBefore Event 2 is Full Gear 2021\nAfter Event  2 is Event\nBefore Event 3 is Revolution 2021\nAfter Event  3 is Event\nBefore Event 4 is Double or Nothing 2022\nAfter Event  4 is Event\nBefore Event 5 is All Out 2020\nAfter Event  5 is Event\n",
          "output_type": "stream"
        }
      ]
    },
    {
      "cell_type": "code",
      "source": "# For loop Example 5\nevents = [\"Double or Nothing 2020\", \"All Out 2019\", \"Full Gear 2021\", \n              \"Revolution 2021\", \"Double or Nothing 2022\", \"All Out 2020\"]\n\nfor i, events in enumerate(events):\n    print(i, events)",
      "metadata": {
        "trusted": true
      },
      "execution_count": 64,
      "outputs": [
        {
          "name": "stdout",
          "text": "0 Double or Nothing 2020\n1 All Out 2019\n2 Full Gear 2021\n3 Revolution 2021\n4 Double or Nothing 2022\n5 All Out 2020\n",
          "output_type": "stream"
        }
      ]
    },
    {
      "cell_type": "code",
      "source": "# While Loop Example 1\ni = 0\nyear = Years[0]\n\nwhile(year != 2022):    \n    print(year)\n    i = i + 1\n    year = Years[i]\n    \n\nprint(\"It took \", i ,\"repetitions to get out of loop.\")",
      "metadata": {
        "trusted": true
      },
      "execution_count": 65,
      "outputs": [
        {
          "name": "stdout",
          "text": "2019\n2020\n2021\nIt took  3 repetitions to get out of loop.\n",
          "output_type": "stream"
        }
      ]
    },
    {
      "cell_type": "code",
      "source": "# While Loop Example 2\nRatings = [10, 9.5, 10, 8, 7.5, 5, 10, 10]\ni = 0\nrating = Ratings[0]\nwhile(i < len(Ratings) and rating >= 6):\n    print(rating)\n    i = i + 1 \n    rating = Ratings[i]",
      "metadata": {
        "trusted": true
      },
      "execution_count": 67,
      "outputs": [
        {
          "name": "stdout",
          "text": "10\n9.5\n10\n8\n7.5\n",
          "output_type": "stream"
        }
      ]
    },
    {
      "cell_type": "code",
      "source": "# While Loop Example 3\nvar = ['Will', 'Will', 'Will', 'Mark', 'Donald']\nnew_var = []\ni = 0\nwhile(i < len(var) and var[i] == 'Will'):\n    new_var.append(var[i])\n    i = i + 1\nprint (new_var)",
      "metadata": {
        "trusted": true
      },
      "execution_count": 68,
      "outputs": [
        {
          "name": "stdout",
          "text": "['Will', 'Will', 'Will']\n",
          "output_type": "stream"
        }
      ]
    }
  ]
}