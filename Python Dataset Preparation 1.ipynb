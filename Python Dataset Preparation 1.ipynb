{
  "metadata": {
    "language_info": {
      "codemirror_mode": {
        "name": "python",
        "version": 3
      },
      "file_extension": ".py",
      "mimetype": "text/x-python",
      "name": "python",
      "nbconvert_exporter": "python",
      "pygments_lexer": "ipython3",
      "version": "3.8"
    },
    "kernelspec": {
      "name": "python",
      "display_name": "Python (Pyodide)",
      "language": "python"
    }
  },
  "nbformat_minor": 4,
  "nbformat": 4,
  "cells": [
    {
      "cell_type": "markdown",
      "source": "# <center>Python Dataset Preparation and Analysis 1 by William Chaudoin</center>",
      "metadata": {}
    },
    {
      "cell_type": "code",
      "source": "# Installing libraries\nimport piplite\nawait piplite.install(['numpy'],['pandas'])",
      "metadata": {
        "trusted": true
      },
      "execution_count": 1,
      "outputs": []
    },
    {
      "cell_type": "code",
      "source": "# Importing libraries and giving them specific names\nimport pandas as pd\nimport numpy as np",
      "metadata": {
        "trusted": true
      },
      "execution_count": 2,
      "outputs": []
    },
    {
      "cell_type": "code",
      "source": "# Attaching dataset using javascript fetch library\n# Dataset comes from Data.gov and details Electric Vehicle Population\nfrom js import fetch\nimport io\n\nURL = \"https://data.wa.gov/api/views/f6w7-q2d2/rows.csv\"\nresp = await fetch(URL)\nother_path = io.BytesIO((await resp.arrayBuffer()).to_py())",
      "metadata": {
        "trusted": true
      },
      "execution_count": 22,
      "outputs": []
    },
    {
      "cell_type": "code",
      "source": "# Reading file and attaching it to an object as a dataframe\ndf = pd.read_csv(other_path, header=None)",
      "metadata": {
        "trusted": true
      },
      "execution_count": 23,
      "outputs": [
        {
          "name": "stderr",
          "text": "<ipython-input-23-bc3eb949a04c>:2: DtypeWarning: Columns (4,5,10,11,12,13,16) have mixed types. Specify dtype option on import or set low_memory=False.\n  df = pd.read_csv(other_path, header=None)\n",
          "output_type": "stream"
        }
      ]
    },
    {
      "cell_type": "code",
      "source": "# Viewing dataframe\ndf.head(10)",
      "metadata": {
        "trusted": true
      },
      "execution_count": 25,
      "outputs": [
        {
          "execution_count": 25,
          "output_type": "execute_result",
          "data": {
            "text/plain": "           0          1             2      3            4           5   \\\n0  VIN (1-10)     County          City  State  Postal Code  Model Year   \n1  5YJ3E1EB4L     Yakima        Yakima     WA        98908        2020   \n2  5YJ3E1EA7K  San Diego     San Diego     CA        92101        2019   \n3  7JRBR0FL9M       Lane        Eugene     OR        97404        2021   \n4  5YJXCBE21K     Yakima        Yakima     WA        98908        2019   \n5  5UXKT0C5XH  Snohomish       Bothell     WA        98021        2017   \n6  1N4AZ0CP4F  Snohomish       Everett     WA        98201        2015   \n7  5YJ3E1EBXJ     Kitsap       Poulsbo     WA        98370        2018   \n8  WDC0G5EB0K     Yakima        Naches     WA        98937        2019   \n9  1N4AZ0CP3D     Kitsap  Port Orchard     WA        98366        2013   \n\n              6          7                                       8   \\\n0           Make      Model                   Electric Vehicle Type   \n1          TESLA    MODEL 3          Battery Electric Vehicle (BEV)   \n2          TESLA    MODEL 3          Battery Electric Vehicle (BEV)   \n3          VOLVO        S60  Plug-in Hybrid Electric Vehicle (PHEV)   \n4          TESLA    MODEL X          Battery Electric Vehicle (BEV)   \n5            BMW         X5  Plug-in Hybrid Electric Vehicle (PHEV)   \n6         NISSAN       LEAF          Battery Electric Vehicle (BEV)   \n7          TESLA    MODEL 3          Battery Electric Vehicle (BEV)   \n8  MERCEDES-BENZ  GLC-CLASS  Plug-in Hybrid Electric Vehicle (PHEV)   \n9         NISSAN       LEAF          Battery Electric Vehicle (BEV)   \n\n                                                  9               10  \\\n0  Clean Alternative Fuel Vehicle (CAFV) Eligibility  Electric Range   \n1            Clean Alternative Fuel Vehicle Eligible             322   \n2            Clean Alternative Fuel Vehicle Eligible             220   \n3              Not eligible due to low battery range              22   \n4            Clean Alternative Fuel Vehicle Eligible             289   \n5              Not eligible due to low battery range              14   \n6            Clean Alternative Fuel Vehicle Eligible              84   \n7            Clean Alternative Fuel Vehicle Eligible             215   \n8              Not eligible due to low battery range              10   \n9            Clean Alternative Fuel Vehicle Eligible              75   \n\n          11                    12              13  \\\n0  Base MSRP  Legislative District  DOL Vehicle ID   \n1          0                    14       127175366   \n2          0                   NaN       266614659   \n3          0                   NaN       144502018   \n4          0                    14       477039944   \n5          0                     1       106314946   \n6          0                    38       107901699   \n7          0                    23       475036313   \n8          0                    14       338148968   \n9          0                    26       249239623   \n\n                            14                      15                 16  \n0             Vehicle Location        Electric Utility  2020 Census Tract  \n1  POINT (-120.56916 46.58514)              PACIFICORP        53077000904  \n2  POINT (-117.16171 32.71568)                     NaN        06073005102  \n3  POINT (-123.12802 44.09573)                     NaN        41039002401  \n4  POINT (-120.56916 46.58514)              PACIFICORP        53077000401  \n5   POINT (-122.18384 47.8031)  PUGET SOUND ENERGY INC        53061051918  \n6  POINT (-122.20596 47.97659)  PUGET SOUND ENERGY INC        53061040500  \n7  POINT (-122.64681 47.73689)  PUGET SOUND ENERGY INC        53035940100  \n8   POINT (-120.69972 46.7309)              PACIFICORP        53077003002  \n9  POINT (-122.63847 47.54103)  PUGET SOUND ENERGY INC        53035092200  ",
            "text/html": "<div>\n<style scoped>\n    .dataframe tbody tr th:only-of-type {\n        vertical-align: middle;\n    }\n\n    .dataframe tbody tr th {\n        vertical-align: top;\n    }\n\n    .dataframe thead th {\n        text-align: right;\n    }\n</style>\n<table border=\"1\" class=\"dataframe\">\n  <thead>\n    <tr style=\"text-align: right;\">\n      <th></th>\n      <th>0</th>\n      <th>1</th>\n      <th>2</th>\n      <th>3</th>\n      <th>4</th>\n      <th>5</th>\n      <th>6</th>\n      <th>7</th>\n      <th>8</th>\n      <th>9</th>\n      <th>10</th>\n      <th>11</th>\n      <th>12</th>\n      <th>13</th>\n      <th>14</th>\n      <th>15</th>\n      <th>16</th>\n    </tr>\n  </thead>\n  <tbody>\n    <tr>\n      <th>0</th>\n      <td>VIN (1-10)</td>\n      <td>County</td>\n      <td>City</td>\n      <td>State</td>\n      <td>Postal Code</td>\n      <td>Model Year</td>\n      <td>Make</td>\n      <td>Model</td>\n      <td>Electric Vehicle Type</td>\n      <td>Clean Alternative Fuel Vehicle (CAFV) Eligibility</td>\n      <td>Electric Range</td>\n      <td>Base MSRP</td>\n      <td>Legislative District</td>\n      <td>DOL Vehicle ID</td>\n      <td>Vehicle Location</td>\n      <td>Electric Utility</td>\n      <td>2020 Census Tract</td>\n    </tr>\n    <tr>\n      <th>1</th>\n      <td>5YJ3E1EB4L</td>\n      <td>Yakima</td>\n      <td>Yakima</td>\n      <td>WA</td>\n      <td>98908</td>\n      <td>2020</td>\n      <td>TESLA</td>\n      <td>MODEL 3</td>\n      <td>Battery Electric Vehicle (BEV)</td>\n      <td>Clean Alternative Fuel Vehicle Eligible</td>\n      <td>322</td>\n      <td>0</td>\n      <td>14</td>\n      <td>127175366</td>\n      <td>POINT (-120.56916 46.58514)</td>\n      <td>PACIFICORP</td>\n      <td>53077000904</td>\n    </tr>\n    <tr>\n      <th>2</th>\n      <td>5YJ3E1EA7K</td>\n      <td>San Diego</td>\n      <td>San Diego</td>\n      <td>CA</td>\n      <td>92101</td>\n      <td>2019</td>\n      <td>TESLA</td>\n      <td>MODEL 3</td>\n      <td>Battery Electric Vehicle (BEV)</td>\n      <td>Clean Alternative Fuel Vehicle Eligible</td>\n      <td>220</td>\n      <td>0</td>\n      <td>NaN</td>\n      <td>266614659</td>\n      <td>POINT (-117.16171 32.71568)</td>\n      <td>NaN</td>\n      <td>06073005102</td>\n    </tr>\n    <tr>\n      <th>3</th>\n      <td>7JRBR0FL9M</td>\n      <td>Lane</td>\n      <td>Eugene</td>\n      <td>OR</td>\n      <td>97404</td>\n      <td>2021</td>\n      <td>VOLVO</td>\n      <td>S60</td>\n      <td>Plug-in Hybrid Electric Vehicle (PHEV)</td>\n      <td>Not eligible due to low battery range</td>\n      <td>22</td>\n      <td>0</td>\n      <td>NaN</td>\n      <td>144502018</td>\n      <td>POINT (-123.12802 44.09573)</td>\n      <td>NaN</td>\n      <td>41039002401</td>\n    </tr>\n    <tr>\n      <th>4</th>\n      <td>5YJXCBE21K</td>\n      <td>Yakima</td>\n      <td>Yakima</td>\n      <td>WA</td>\n      <td>98908</td>\n      <td>2019</td>\n      <td>TESLA</td>\n      <td>MODEL X</td>\n      <td>Battery Electric Vehicle (BEV)</td>\n      <td>Clean Alternative Fuel Vehicle Eligible</td>\n      <td>289</td>\n      <td>0</td>\n      <td>14</td>\n      <td>477039944</td>\n      <td>POINT (-120.56916 46.58514)</td>\n      <td>PACIFICORP</td>\n      <td>53077000401</td>\n    </tr>\n    <tr>\n      <th>5</th>\n      <td>5UXKT0C5XH</td>\n      <td>Snohomish</td>\n      <td>Bothell</td>\n      <td>WA</td>\n      <td>98021</td>\n      <td>2017</td>\n      <td>BMW</td>\n      <td>X5</td>\n      <td>Plug-in Hybrid Electric Vehicle (PHEV)</td>\n      <td>Not eligible due to low battery range</td>\n      <td>14</td>\n      <td>0</td>\n      <td>1</td>\n      <td>106314946</td>\n      <td>POINT (-122.18384 47.8031)</td>\n      <td>PUGET SOUND ENERGY INC</td>\n      <td>53061051918</td>\n    </tr>\n    <tr>\n      <th>6</th>\n      <td>1N4AZ0CP4F</td>\n      <td>Snohomish</td>\n      <td>Everett</td>\n      <td>WA</td>\n      <td>98201</td>\n      <td>2015</td>\n      <td>NISSAN</td>\n      <td>LEAF</td>\n      <td>Battery Electric Vehicle (BEV)</td>\n      <td>Clean Alternative Fuel Vehicle Eligible</td>\n      <td>84</td>\n      <td>0</td>\n      <td>38</td>\n      <td>107901699</td>\n      <td>POINT (-122.20596 47.97659)</td>\n      <td>PUGET SOUND ENERGY INC</td>\n      <td>53061040500</td>\n    </tr>\n    <tr>\n      <th>7</th>\n      <td>5YJ3E1EBXJ</td>\n      <td>Kitsap</td>\n      <td>Poulsbo</td>\n      <td>WA</td>\n      <td>98370</td>\n      <td>2018</td>\n      <td>TESLA</td>\n      <td>MODEL 3</td>\n      <td>Battery Electric Vehicle (BEV)</td>\n      <td>Clean Alternative Fuel Vehicle Eligible</td>\n      <td>215</td>\n      <td>0</td>\n      <td>23</td>\n      <td>475036313</td>\n      <td>POINT (-122.64681 47.73689)</td>\n      <td>PUGET SOUND ENERGY INC</td>\n      <td>53035940100</td>\n    </tr>\n    <tr>\n      <th>8</th>\n      <td>WDC0G5EB0K</td>\n      <td>Yakima</td>\n      <td>Naches</td>\n      <td>WA</td>\n      <td>98937</td>\n      <td>2019</td>\n      <td>MERCEDES-BENZ</td>\n      <td>GLC-CLASS</td>\n      <td>Plug-in Hybrid Electric Vehicle (PHEV)</td>\n      <td>Not eligible due to low battery range</td>\n      <td>10</td>\n      <td>0</td>\n      <td>14</td>\n      <td>338148968</td>\n      <td>POINT (-120.69972 46.7309)</td>\n      <td>PACIFICORP</td>\n      <td>53077003002</td>\n    </tr>\n    <tr>\n      <th>9</th>\n      <td>1N4AZ0CP3D</td>\n      <td>Kitsap</td>\n      <td>Port Orchard</td>\n      <td>WA</td>\n      <td>98366</td>\n      <td>2013</td>\n      <td>NISSAN</td>\n      <td>LEAF</td>\n      <td>Battery Electric Vehicle (BEV)</td>\n      <td>Clean Alternative Fuel Vehicle Eligible</td>\n      <td>75</td>\n      <td>0</td>\n      <td>26</td>\n      <td>249239623</td>\n      <td>POINT (-122.63847 47.54103)</td>\n      <td>PUGET SOUND ENERGY INC</td>\n      <td>53035092200</td>\n    </tr>\n  </tbody>\n</table>\n</div>"
          },
          "metadata": {}
        }
      ]
    },
    {
      "cell_type": "code",
      "source": "# Adjusting column names to row 0 and then dropping that row from the dataframe. Finally viewing the dataset to confirm change\ndf.columns=df.iloc[0]\ndf.drop([0], axis=0, inplace=True)\ndf.head()",
      "metadata": {
        "trusted": true
      },
      "execution_count": 26,
      "outputs": [
        {
          "execution_count": 26,
          "output_type": "execute_result",
          "data": {
            "text/plain": "0  VIN (1-10)     County       City State Postal Code Model Year   Make  \\\n1  5YJ3E1EB4L     Yakima     Yakima    WA       98908       2020  TESLA   \n2  5YJ3E1EA7K  San Diego  San Diego    CA       92101       2019  TESLA   \n3  7JRBR0FL9M       Lane     Eugene    OR       97404       2021  VOLVO   \n4  5YJXCBE21K     Yakima     Yakima    WA       98908       2019  TESLA   \n5  5UXKT0C5XH  Snohomish    Bothell    WA       98021       2017    BMW   \n\n0    Model                   Electric Vehicle Type  \\\n1  MODEL 3          Battery Electric Vehicle (BEV)   \n2  MODEL 3          Battery Electric Vehicle (BEV)   \n3      S60  Plug-in Hybrid Electric Vehicle (PHEV)   \n4  MODEL X          Battery Electric Vehicle (BEV)   \n5       X5  Plug-in Hybrid Electric Vehicle (PHEV)   \n\n0 Clean Alternative Fuel Vehicle (CAFV) Eligibility Electric Range Base MSRP  \\\n1           Clean Alternative Fuel Vehicle Eligible            322         0   \n2           Clean Alternative Fuel Vehicle Eligible            220         0   \n3             Not eligible due to low battery range             22         0   \n4           Clean Alternative Fuel Vehicle Eligible            289         0   \n5             Not eligible due to low battery range             14         0   \n\n0 Legislative District DOL Vehicle ID             Vehicle Location  \\\n1                   14      127175366  POINT (-120.56916 46.58514)   \n2                  NaN      266614659  POINT (-117.16171 32.71568)   \n3                  NaN      144502018  POINT (-123.12802 44.09573)   \n4                   14      477039944  POINT (-120.56916 46.58514)   \n5                    1      106314946   POINT (-122.18384 47.8031)   \n\n0        Electric Utility 2020 Census Tract  \n1              PACIFICORP       53077000904  \n2                     NaN       06073005102  \n3                     NaN       41039002401  \n4              PACIFICORP       53077000401  \n5  PUGET SOUND ENERGY INC       53061051918  ",
            "text/html": "<div>\n<style scoped>\n    .dataframe tbody tr th:only-of-type {\n        vertical-align: middle;\n    }\n\n    .dataframe tbody tr th {\n        vertical-align: top;\n    }\n\n    .dataframe thead th {\n        text-align: right;\n    }\n</style>\n<table border=\"1\" class=\"dataframe\">\n  <thead>\n    <tr style=\"text-align: right;\">\n      <th></th>\n      <th>VIN (1-10)</th>\n      <th>County</th>\n      <th>City</th>\n      <th>State</th>\n      <th>Postal Code</th>\n      <th>Model Year</th>\n      <th>Make</th>\n      <th>Model</th>\n      <th>Electric Vehicle Type</th>\n      <th>Clean Alternative Fuel Vehicle (CAFV) Eligibility</th>\n      <th>Electric Range</th>\n      <th>Base MSRP</th>\n      <th>Legislative District</th>\n      <th>DOL Vehicle ID</th>\n      <th>Vehicle Location</th>\n      <th>Electric Utility</th>\n      <th>2020 Census Tract</th>\n    </tr>\n  </thead>\n  <tbody>\n    <tr>\n      <th>1</th>\n      <td>5YJ3E1EB4L</td>\n      <td>Yakima</td>\n      <td>Yakima</td>\n      <td>WA</td>\n      <td>98908</td>\n      <td>2020</td>\n      <td>TESLA</td>\n      <td>MODEL 3</td>\n      <td>Battery Electric Vehicle (BEV)</td>\n      <td>Clean Alternative Fuel Vehicle Eligible</td>\n      <td>322</td>\n      <td>0</td>\n      <td>14</td>\n      <td>127175366</td>\n      <td>POINT (-120.56916 46.58514)</td>\n      <td>PACIFICORP</td>\n      <td>53077000904</td>\n    </tr>\n    <tr>\n      <th>2</th>\n      <td>5YJ3E1EA7K</td>\n      <td>San Diego</td>\n      <td>San Diego</td>\n      <td>CA</td>\n      <td>92101</td>\n      <td>2019</td>\n      <td>TESLA</td>\n      <td>MODEL 3</td>\n      <td>Battery Electric Vehicle (BEV)</td>\n      <td>Clean Alternative Fuel Vehicle Eligible</td>\n      <td>220</td>\n      <td>0</td>\n      <td>NaN</td>\n      <td>266614659</td>\n      <td>POINT (-117.16171 32.71568)</td>\n      <td>NaN</td>\n      <td>06073005102</td>\n    </tr>\n    <tr>\n      <th>3</th>\n      <td>7JRBR0FL9M</td>\n      <td>Lane</td>\n      <td>Eugene</td>\n      <td>OR</td>\n      <td>97404</td>\n      <td>2021</td>\n      <td>VOLVO</td>\n      <td>S60</td>\n      <td>Plug-in Hybrid Electric Vehicle (PHEV)</td>\n      <td>Not eligible due to low battery range</td>\n      <td>22</td>\n      <td>0</td>\n      <td>NaN</td>\n      <td>144502018</td>\n      <td>POINT (-123.12802 44.09573)</td>\n      <td>NaN</td>\n      <td>41039002401</td>\n    </tr>\n    <tr>\n      <th>4</th>\n      <td>5YJXCBE21K</td>\n      <td>Yakima</td>\n      <td>Yakima</td>\n      <td>WA</td>\n      <td>98908</td>\n      <td>2019</td>\n      <td>TESLA</td>\n      <td>MODEL X</td>\n      <td>Battery Electric Vehicle (BEV)</td>\n      <td>Clean Alternative Fuel Vehicle Eligible</td>\n      <td>289</td>\n      <td>0</td>\n      <td>14</td>\n      <td>477039944</td>\n      <td>POINT (-120.56916 46.58514)</td>\n      <td>PACIFICORP</td>\n      <td>53077000401</td>\n    </tr>\n    <tr>\n      <th>5</th>\n      <td>5UXKT0C5XH</td>\n      <td>Snohomish</td>\n      <td>Bothell</td>\n      <td>WA</td>\n      <td>98021</td>\n      <td>2017</td>\n      <td>BMW</td>\n      <td>X5</td>\n      <td>Plug-in Hybrid Electric Vehicle (PHEV)</td>\n      <td>Not eligible due to low battery range</td>\n      <td>14</td>\n      <td>0</td>\n      <td>1</td>\n      <td>106314946</td>\n      <td>POINT (-122.18384 47.8031)</td>\n      <td>PUGET SOUND ENERGY INC</td>\n      <td>53061051918</td>\n    </tr>\n  </tbody>\n</table>\n</div>"
          },
          "metadata": {}
        }
      ]
    },
    {
      "cell_type": "code",
      "source": "# Checking df shape\ndf.shape",
      "metadata": {
        "trusted": true
      },
      "execution_count": 31,
      "outputs": [
        {
          "execution_count": 31,
          "output_type": "execute_result",
          "data": {
            "text/plain": "(124716, 17)"
          },
          "metadata": {}
        }
      ]
    },
    {
      "cell_type": "code",
      "source": "# Checking for null values\ndf.isnull().values.any()",
      "metadata": {
        "trusted": true
      },
      "execution_count": 43,
      "outputs": [
        {
          "execution_count": 43,
          "output_type": "execute_result",
          "data": {
            "text/plain": "True"
          },
          "metadata": {}
        }
      ]
    },
    {
      "cell_type": "code",
      "source": "# Identifying where those null values are located\ndf.isnull().sum()",
      "metadata": {
        "trusted": true
      },
      "execution_count": 44,
      "outputs": [
        {
          "execution_count": 44,
          "output_type": "execute_result",
          "data": {
            "text/plain": "0\nVIN (1-10)                                             0\nCounty                                                 2\nCity                                                   2\nState                                                  0\nPostal Code                                            2\nModel Year                                             0\nMake                                                   0\nModel                                                181\nElectric Vehicle Type                                  0\nClean Alternative Fuel Vehicle (CAFV) Eligibility      0\nElectric Range                                         0\nBase MSRP                                              0\nLegislative District                                 297\nDOL Vehicle ID                                         0\nVehicle Location                                      29\nElectric Utility                                     473\n2020 Census Tract                                      2\ndtype: int64"
          },
          "metadata": {}
        }
      ]
    },
    {
      "cell_type": "code",
      "source": "# Null values are all categorical so can't use Median as replacement, thus dropping missing values\ndf1 = df.dropna(subset=[\"County\", \"City\", \"Postal Code\", \"Model\", \"Legislative District\", \"Vehicle Location\", \"Electric Utility\", \"2020 Census Tract\"], axis=0)",
      "metadata": {
        "trusted": true
      },
      "execution_count": 54,
      "outputs": []
    },
    {
      "cell_type": "code",
      "source": "# Checking for null values\ndf1.isnull().values.any()",
      "metadata": {
        "trusted": true
      },
      "execution_count": 55,
      "outputs": [
        {
          "execution_count": 55,
          "output_type": "execute_result",
          "data": {
            "text/plain": "False"
          },
          "metadata": {}
        }
      ]
    },
    {
      "cell_type": "code",
      "source": "# Identifying where those null values are located\ndf1.isnull().sum()",
      "metadata": {
        "trusted": true
      },
      "execution_count": 56,
      "outputs": [
        {
          "execution_count": 56,
          "output_type": "execute_result",
          "data": {
            "text/plain": "0\nVIN (1-10)                                           0\nCounty                                               0\nCity                                                 0\nState                                                0\nPostal Code                                          0\nModel Year                                           0\nMake                                                 0\nModel                                                0\nElectric Vehicle Type                                0\nClean Alternative Fuel Vehicle (CAFV) Eligibility    0\nElectric Range                                       0\nBase MSRP                                            0\nLegislative District                                 0\nDOL Vehicle ID                                       0\nVehicle Location                                     0\nElectric Utility                                     0\n2020 Census Tract                                    0\ndtype: int64"
          },
          "metadata": {}
        }
      ]
    },
    {
      "cell_type": "code",
      "source": "# Calling a specific column\ndf1['Make']",
      "metadata": {
        "trusted": true
      },
      "execution_count": 58,
      "outputs": [
        {
          "execution_count": 58,
          "output_type": "execute_result",
          "data": {
            "text/plain": "1             TESLA\n4             TESLA\n5               BMW\n6            NISSAN\n7             TESLA\n            ...    \n124712        TESLA\n124713          KIA\n124714        TESLA\n124715    CHEVROLET\n124716    CHEVROLET\nName: Make, Length: 124038, dtype: object"
          },
          "metadata": {}
        }
      ]
    },
    {
      "cell_type": "code",
      "source": "# Checking data types of each column\ndf1.dtypes",
      "metadata": {
        "trusted": true
      },
      "execution_count": 60,
      "outputs": [
        {
          "execution_count": 60,
          "output_type": "execute_result",
          "data": {
            "text/plain": "0\nVIN (1-10)                                           object\nCounty                                               object\nCity                                                 object\nState                                                object\nPostal Code                                          object\nModel Year                                           object\nMake                                                 object\nModel                                                object\nElectric Vehicle Type                                object\nClean Alternative Fuel Vehicle (CAFV) Eligibility    object\nElectric Range                                       object\nBase MSRP                                            object\nLegislative District                                 object\nDOL Vehicle ID                                       object\nVehicle Location                                     object\nElectric Utility                                     object\n2020 Census Tract                                    object\ndtype: object"
          },
          "metadata": {}
        }
      ]
    },
    {
      "cell_type": "code",
      "source": "# Changing data types\ndf1['Electric Range'] = df1['Electric Range'].astype(int)",
      "metadata": {
        "trusted": true
      },
      "execution_count": 69,
      "outputs": []
    },
    {
      "cell_type": "code",
      "source": "# Confirming change\ndf1.dtypes",
      "metadata": {
        "trusted": true
      },
      "execution_count": 70,
      "outputs": [
        {
          "execution_count": 70,
          "output_type": "execute_result",
          "data": {
            "text/plain": "0\nVIN (1-10)                                           object\nCounty                                               object\nCity                                                 object\nState                                                object\nPostal Code                                          object\nModel Year                                           object\nMake                                                 object\nModel                                                object\nElectric Vehicle Type                                object\nClean Alternative Fuel Vehicle (CAFV) Eligibility    object\nElectric Range                                        int32\nBase MSRP                                            object\nLegislative District                                 object\nDOL Vehicle ID                                       object\nVehicle Location                                     object\nElectric Utility                                     object\n2020 Census Tract                                    object\ndtype: object"
          },
          "metadata": {}
        }
      ]
    },
    {
      "cell_type": "code",
      "source": "# Describing data\ndf1.describe(include = \"all\")",
      "metadata": {
        "trusted": true
      },
      "execution_count": 75,
      "outputs": [
        {
          "execution_count": 75,
          "output_type": "execute_result",
          "data": {
            "text/plain": "0       VIN (1-10)  County     City   State Postal Code Model Year    Make  \\\ncount       124038  124038   124038  124038      124038     124038  124038   \nunique        8299      39      444       1         958         21      35   \ntop     5YJYGDEE9M    King  Seattle      WA       98052       2022   TESLA   \nfreq           461   65144    21942  124038        2799      27426   56906   \nmean           NaN     NaN      NaN     NaN         NaN        NaN     NaN   \nstd            NaN     NaN      NaN     NaN         NaN        NaN     NaN   \nmin            NaN     NaN      NaN     NaN         NaN        NaN     NaN   \n25%            NaN     NaN      NaN     NaN         NaN        NaN     NaN   \n50%            NaN     NaN      NaN     NaN         NaN        NaN     NaN   \n75%            NaN     NaN      NaN     NaN         NaN        NaN     NaN   \nmax            NaN     NaN      NaN     NaN         NaN        NaN     NaN   \n\n0         Model           Electric Vehicle Type  \\\ncount    124038                          124038   \nunique      120                               2   \ntop     MODEL 3  Battery Electric Vehicle (BEV)   \nfreq      24300                           95753   \nmean        NaN                             NaN   \nstd         NaN                             NaN   \nmin         NaN                             NaN   \n25%         NaN                             NaN   \n50%         NaN                             NaN   \n75%         NaN                             NaN   \nmax         NaN                             NaN   \n\n0      Clean Alternative Fuel Vehicle (CAFV) Eligibility  Electric Range  \\\ncount                                             124038   124038.000000   \nunique                                                 3             NaN   \ntop              Clean Alternative Fuel Vehicle Eligible             NaN   \nfreq                                               59092             NaN   \nmean                                                 NaN       79.576049   \nstd                                                  NaN      100.350946   \nmin                                                  NaN        0.000000   \n25%                                                  NaN        0.000000   \n50%                                                  NaN       25.000000   \n75%                                                  NaN      200.000000   \nmax                                                  NaN      337.000000   \n\n0      Base MSRP Legislative District DOL Vehicle ID  \\\ncount     124038               124038         124038   \nunique        31                   98         124038   \ntop            0                 41.0      127175366   \nfreq      120656                 6258              1   \nmean         NaN                  NaN            NaN   \nstd          NaN                  NaN            NaN   \nmin          NaN                  NaN            NaN   \n25%          NaN                  NaN            NaN   \n50%          NaN                  NaN            NaN   \n75%          NaN                  NaN            NaN   \nmax          NaN                  NaN            NaN   \n\n0                  Vehicle Location  \\\ncount                        124038   \nunique                          517   \ntop     POINT (-122.13158 47.67858)   \nfreq                           3243   \nmean                            NaN   \nstd                             NaN   \nmin                             NaN   \n25%                             NaN   \n50%                             NaN   \n75%                             NaN   \nmax                             NaN   \n\n0                                    Electric Utility 2020 Census Tract  \ncount                                          124038            124038  \nunique                                             73              3452  \ntop     PUGET SOUND ENERGY INC||CITY OF TACOMA - (WA)       53033028500  \nfreq                                            44926               708  \nmean                                              NaN               NaN  \nstd                                               NaN               NaN  \nmin                                               NaN               NaN  \n25%                                               NaN               NaN  \n50%                                               NaN               NaN  \n75%                                               NaN               NaN  \nmax                                               NaN               NaN  ",
            "text/html": "<div>\n<style scoped>\n    .dataframe tbody tr th:only-of-type {\n        vertical-align: middle;\n    }\n\n    .dataframe tbody tr th {\n        vertical-align: top;\n    }\n\n    .dataframe thead th {\n        text-align: right;\n    }\n</style>\n<table border=\"1\" class=\"dataframe\">\n  <thead>\n    <tr style=\"text-align: right;\">\n      <th></th>\n      <th>VIN (1-10)</th>\n      <th>County</th>\n      <th>City</th>\n      <th>State</th>\n      <th>Postal Code</th>\n      <th>Model Year</th>\n      <th>Make</th>\n      <th>Model</th>\n      <th>Electric Vehicle Type</th>\n      <th>Clean Alternative Fuel Vehicle (CAFV) Eligibility</th>\n      <th>Electric Range</th>\n      <th>Base MSRP</th>\n      <th>Legislative District</th>\n      <th>DOL Vehicle ID</th>\n      <th>Vehicle Location</th>\n      <th>Electric Utility</th>\n      <th>2020 Census Tract</th>\n    </tr>\n  </thead>\n  <tbody>\n    <tr>\n      <th>count</th>\n      <td>124038</td>\n      <td>124038</td>\n      <td>124038</td>\n      <td>124038</td>\n      <td>124038</td>\n      <td>124038</td>\n      <td>124038</td>\n      <td>124038</td>\n      <td>124038</td>\n      <td>124038</td>\n      <td>124038.000000</td>\n      <td>124038</td>\n      <td>124038</td>\n      <td>124038</td>\n      <td>124038</td>\n      <td>124038</td>\n      <td>124038</td>\n    </tr>\n    <tr>\n      <th>unique</th>\n      <td>8299</td>\n      <td>39</td>\n      <td>444</td>\n      <td>1</td>\n      <td>958</td>\n      <td>21</td>\n      <td>35</td>\n      <td>120</td>\n      <td>2</td>\n      <td>3</td>\n      <td>NaN</td>\n      <td>31</td>\n      <td>98</td>\n      <td>124038</td>\n      <td>517</td>\n      <td>73</td>\n      <td>3452</td>\n    </tr>\n    <tr>\n      <th>top</th>\n      <td>5YJYGDEE9M</td>\n      <td>King</td>\n      <td>Seattle</td>\n      <td>WA</td>\n      <td>98052</td>\n      <td>2022</td>\n      <td>TESLA</td>\n      <td>MODEL 3</td>\n      <td>Battery Electric Vehicle (BEV)</td>\n      <td>Clean Alternative Fuel Vehicle Eligible</td>\n      <td>NaN</td>\n      <td>0</td>\n      <td>41.0</td>\n      <td>127175366</td>\n      <td>POINT (-122.13158 47.67858)</td>\n      <td>PUGET SOUND ENERGY INC||CITY OF TACOMA - (WA)</td>\n      <td>53033028500</td>\n    </tr>\n    <tr>\n      <th>freq</th>\n      <td>461</td>\n      <td>65144</td>\n      <td>21942</td>\n      <td>124038</td>\n      <td>2799</td>\n      <td>27426</td>\n      <td>56906</td>\n      <td>24300</td>\n      <td>95753</td>\n      <td>59092</td>\n      <td>NaN</td>\n      <td>120656</td>\n      <td>6258</td>\n      <td>1</td>\n      <td>3243</td>\n      <td>44926</td>\n      <td>708</td>\n    </tr>\n    <tr>\n      <th>mean</th>\n      <td>NaN</td>\n      <td>NaN</td>\n      <td>NaN</td>\n      <td>NaN</td>\n      <td>NaN</td>\n      <td>NaN</td>\n      <td>NaN</td>\n      <td>NaN</td>\n      <td>NaN</td>\n      <td>NaN</td>\n      <td>79.576049</td>\n      <td>NaN</td>\n      <td>NaN</td>\n      <td>NaN</td>\n      <td>NaN</td>\n      <td>NaN</td>\n      <td>NaN</td>\n    </tr>\n    <tr>\n      <th>std</th>\n      <td>NaN</td>\n      <td>NaN</td>\n      <td>NaN</td>\n      <td>NaN</td>\n      <td>NaN</td>\n      <td>NaN</td>\n      <td>NaN</td>\n      <td>NaN</td>\n      <td>NaN</td>\n      <td>NaN</td>\n      <td>100.350946</td>\n      <td>NaN</td>\n      <td>NaN</td>\n      <td>NaN</td>\n      <td>NaN</td>\n      <td>NaN</td>\n      <td>NaN</td>\n    </tr>\n    <tr>\n      <th>min</th>\n      <td>NaN</td>\n      <td>NaN</td>\n      <td>NaN</td>\n      <td>NaN</td>\n      <td>NaN</td>\n      <td>NaN</td>\n      <td>NaN</td>\n      <td>NaN</td>\n      <td>NaN</td>\n      <td>NaN</td>\n      <td>0.000000</td>\n      <td>NaN</td>\n      <td>NaN</td>\n      <td>NaN</td>\n      <td>NaN</td>\n      <td>NaN</td>\n      <td>NaN</td>\n    </tr>\n    <tr>\n      <th>25%</th>\n      <td>NaN</td>\n      <td>NaN</td>\n      <td>NaN</td>\n      <td>NaN</td>\n      <td>NaN</td>\n      <td>NaN</td>\n      <td>NaN</td>\n      <td>NaN</td>\n      <td>NaN</td>\n      <td>NaN</td>\n      <td>0.000000</td>\n      <td>NaN</td>\n      <td>NaN</td>\n      <td>NaN</td>\n      <td>NaN</td>\n      <td>NaN</td>\n      <td>NaN</td>\n    </tr>\n    <tr>\n      <th>50%</th>\n      <td>NaN</td>\n      <td>NaN</td>\n      <td>NaN</td>\n      <td>NaN</td>\n      <td>NaN</td>\n      <td>NaN</td>\n      <td>NaN</td>\n      <td>NaN</td>\n      <td>NaN</td>\n      <td>NaN</td>\n      <td>25.000000</td>\n      <td>NaN</td>\n      <td>NaN</td>\n      <td>NaN</td>\n      <td>NaN</td>\n      <td>NaN</td>\n      <td>NaN</td>\n    </tr>\n    <tr>\n      <th>75%</th>\n      <td>NaN</td>\n      <td>NaN</td>\n      <td>NaN</td>\n      <td>NaN</td>\n      <td>NaN</td>\n      <td>NaN</td>\n      <td>NaN</td>\n      <td>NaN</td>\n      <td>NaN</td>\n      <td>NaN</td>\n      <td>200.000000</td>\n      <td>NaN</td>\n      <td>NaN</td>\n      <td>NaN</td>\n      <td>NaN</td>\n      <td>NaN</td>\n      <td>NaN</td>\n    </tr>\n    <tr>\n      <th>max</th>\n      <td>NaN</td>\n      <td>NaN</td>\n      <td>NaN</td>\n      <td>NaN</td>\n      <td>NaN</td>\n      <td>NaN</td>\n      <td>NaN</td>\n      <td>NaN</td>\n      <td>NaN</td>\n      <td>NaN</td>\n      <td>337.000000</td>\n      <td>NaN</td>\n      <td>NaN</td>\n      <td>NaN</td>\n      <td>NaN</td>\n      <td>NaN</td>\n      <td>NaN</td>\n    </tr>\n  </tbody>\n</table>\n</div>"
          },
          "metadata": {}
        }
      ]
    },
    {
      "cell_type": "code",
      "source": "# Describing only integar column\ndf1[['Electric Range']].describe()",
      "metadata": {
        "trusted": true
      },
      "execution_count": 76,
      "outputs": [
        {
          "execution_count": 76,
          "output_type": "execute_result",
          "data": {
            "text/plain": "0      Electric Range\ncount   124038.000000\nmean        79.576049\nstd        100.350946\nmin          0.000000\n25%          0.000000\n50%         25.000000\n75%        200.000000\nmax        337.000000",
            "text/html": "<div>\n<style scoped>\n    .dataframe tbody tr th:only-of-type {\n        vertical-align: middle;\n    }\n\n    .dataframe tbody tr th {\n        vertical-align: top;\n    }\n\n    .dataframe thead th {\n        text-align: right;\n    }\n</style>\n<table border=\"1\" class=\"dataframe\">\n  <thead>\n    <tr style=\"text-align: right;\">\n      <th></th>\n      <th>Electric Range</th>\n    </tr>\n  </thead>\n  <tbody>\n    <tr>\n      <th>count</th>\n      <td>124038.000000</td>\n    </tr>\n    <tr>\n      <th>mean</th>\n      <td>79.576049</td>\n    </tr>\n    <tr>\n      <th>std</th>\n      <td>100.350946</td>\n    </tr>\n    <tr>\n      <th>min</th>\n      <td>0.000000</td>\n    </tr>\n    <tr>\n      <th>25%</th>\n      <td>0.000000</td>\n    </tr>\n    <tr>\n      <th>50%</th>\n      <td>25.000000</td>\n    </tr>\n    <tr>\n      <th>75%</th>\n      <td>200.000000</td>\n    </tr>\n    <tr>\n      <th>max</th>\n      <td>337.000000</td>\n    </tr>\n  </tbody>\n</table>\n</div>"
          },
          "metadata": {}
        }
      ]
    },
    {
      "cell_type": "code",
      "source": "# Gathering more info on new dataset\ndf1.info()",
      "metadata": {
        "trusted": true
      },
      "execution_count": 77,
      "outputs": [
        {
          "name": "stdout",
          "text": "<class 'pandas.core.frame.DataFrame'>\nInt64Index: 124038 entries, 1 to 124716\nData columns (total 17 columns):\n #   Column                                             Non-Null Count   Dtype \n---  ------                                             --------------   ----- \n 0   VIN (1-10)                                         124038 non-null  object\n 1   County                                             124038 non-null  object\n 2   City                                               124038 non-null  object\n 3   State                                              124038 non-null  object\n 4   Postal Code                                        124038 non-null  object\n 5   Model Year                                         124038 non-null  object\n 6   Make                                               124038 non-null  object\n 7   Model                                              124038 non-null  object\n 8   Electric Vehicle Type                              124038 non-null  object\n 9   Clean Alternative Fuel Vehicle (CAFV) Eligibility  124038 non-null  object\n 10  Electric Range                                     124038 non-null  int32 \n 11  Base MSRP                                          124038 non-null  object\n 12  Legislative District                               124038 non-null  object\n 13  DOL Vehicle ID                                     124038 non-null  object\n 14  Vehicle Location                                   124038 non-null  object\n 15  Electric Utility                                   124038 non-null  object\n 16  2020 Census Tract                                  124038 non-null  object\ndtypes: int32(1), object(16)\nmemory usage: 9.0+ MB\n",
          "output_type": "stream"
        }
      ]
    },
    {
      "cell_type": "code",
      "source": "# Saving new dataset as a csv\ndf1.to_csv(\"electriccar.csv\", index=False)",
      "metadata": {
        "trusted": true
      },
      "execution_count": null,
      "outputs": []
    }
  ]
}