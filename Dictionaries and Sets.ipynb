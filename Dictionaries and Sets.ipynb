{
  "metadata": {
    "language_info": {
      "codemirror_mode": {
        "name": "python",
        "version": 3
      },
      "file_extension": ".py",
      "mimetype": "text/x-python",
      "name": "python",
      "nbconvert_exporter": "python",
      "pygments_lexer": "ipython3",
      "version": "3.8"
    },
    "kernelspec": {
      "name": "python",
      "display_name": "Python (Pyodide)",
      "language": "python"
    }
  },
  "nbformat_minor": 4,
  "nbformat": 4,
  "cells": [
    {
      "cell_type": "markdown",
      "source": "# <center> Dictionaries and Sets by William Chaudoin</center>",
      "metadata": {}
    },
    {
      "cell_type": "markdown",
      "source": "# <center>Dictionaries</center>",
      "metadata": {}
    },
    {
      "cell_type": "code",
      "source": "# Creating a Dictionary Example\nDict = {\"key1\": 1, \"key2\": \"2\", \"key3\": 3, \"key4\": 4, 'key5': 5, \"key6\": 6}\nDict",
      "metadata": {
        "trusted": true
      },
      "execution_count": 35,
      "outputs": [
        {
          "execution_count": 35,
          "output_type": "execute_result",
          "data": {
            "text/plain": "{'key1': 1, 'key2': '2', 'key3': 3, 'key4': 4, 'key5': 5, 'key6': 6}"
          },
          "metadata": {}
        }
      ]
    },
    {
      "cell_type": "code",
      "source": "# Displaying Element Based on Key Example\nDict[\"key1\"]",
      "metadata": {
        "trusted": true
      },
      "execution_count": 36,
      "outputs": [
        {
          "execution_count": 36,
          "output_type": "execute_result",
          "data": {
            "text/plain": "1"
          },
          "metadata": {}
        }
      ]
    },
    {
      "cell_type": "code",
      "source": "# New Dictionary Example\nAEW_Events = {\"Event 1\": \"Double or Nothing 2019\", \"Event2\": \"All Out 2019\", \"Event3\": \"Full Gear 2019\", \n              \"Event4\": \"Revolution 2020\", \"Event5\": \"Double or Nothing 2020\", \"Event6\": \"All Out 2020\"}\nAEW_Events",
      "metadata": {
        "trusted": true
      },
      "execution_count": 37,
      "outputs": [
        {
          "execution_count": 37,
          "output_type": "execute_result",
          "data": {
            "text/plain": "{'Event 1': 'Double or Nothing 2019',\n 'Event2': 'All Out 2019',\n 'Event3': 'Full Gear 2019',\n 'Event4': 'Revolution 2020',\n 'Event5': 'Double or Nothing 2020',\n 'Event6': 'All Out 2020'}"
          },
          "metadata": {}
        }
      ]
    },
    {
      "cell_type": "code",
      "source": "# Checking Type of New Dictionary Example\ntype(AEW_Events)",
      "metadata": {
        "trusted": true
      },
      "execution_count": 38,
      "outputs": [
        {
          "execution_count": 38,
          "output_type": "execute_result",
          "data": {
            "text/plain": "dict"
          },
          "metadata": {}
        }
      ]
    },
    {
      "cell_type": "code",
      "source": "# Using Key to Get Element of New Dictionary Example\nAEW_Events['Event3'] ",
      "metadata": {
        "trusted": true
      },
      "execution_count": 39,
      "outputs": [
        {
          "execution_count": 39,
          "output_type": "execute_result",
          "data": {
            "text/plain": "'Full Gear 2019'"
          },
          "metadata": {}
        }
      ]
    },
    {
      "cell_type": "code",
      "source": "# Displaying Keys of New Dictionary Example\nAEW_Events.keys() ",
      "metadata": {
        "trusted": true
      },
      "execution_count": 40,
      "outputs": [
        {
          "execution_count": 40,
          "output_type": "execute_result",
          "data": {
            "text/plain": "dict_keys(['Event 1', 'Event2', 'Event3', 'Event4', 'Event5', 'Event6'])"
          },
          "metadata": {}
        }
      ]
    },
    {
      "cell_type": "code",
      "source": "# Displaying Values of New Dictionary Example\nAEW_Events.values() ",
      "metadata": {
        "trusted": true
      },
      "execution_count": 41,
      "outputs": [
        {
          "execution_count": 41,
          "output_type": "execute_result",
          "data": {
            "text/plain": "dict_values(['Double or Nothing 2019', 'All Out 2019', 'Full Gear 2019', 'Revolution 2020', 'Double or Nothing 2020', 'All Out 2020'])"
          },
          "metadata": {}
        }
      ]
    },
    {
      "cell_type": "code",
      "source": "# Adding New Value to New Dictionary Example\nAEW_Events['Event7'] = 'Full Gear 2020'\nAEW_Events",
      "metadata": {
        "trusted": true
      },
      "execution_count": 42,
      "outputs": [
        {
          "execution_count": 42,
          "output_type": "execute_result",
          "data": {
            "text/plain": "{'Event 1': 'Double or Nothing 2019',\n 'Event2': 'All Out 2019',\n 'Event3': 'Full Gear 2019',\n 'Event4': 'Revolution 2020',\n 'Event5': 'Double or Nothing 2020',\n 'Event6': 'All Out 2020',\n 'Event7': 'Full Gear 2020'}"
          },
          "metadata": {}
        }
      ]
    },
    {
      "cell_type": "code",
      "source": "# Deleting Added Variable Using Key Example\ndel(AEW_Events['Event7'])\nAEW_Events",
      "metadata": {
        "trusted": true
      },
      "execution_count": 43,
      "outputs": [
        {
          "execution_count": 43,
          "output_type": "execute_result",
          "data": {
            "text/plain": "{'Event 1': 'Double or Nothing 2019',\n 'Event2': 'All Out 2019',\n 'Event3': 'Full Gear 2019',\n 'Event4': 'Revolution 2020',\n 'Event5': 'Double or Nothing 2020',\n 'Event6': 'All Out 2020'}"
          },
          "metadata": {}
        }
      ]
    },
    {
      "cell_type": "code",
      "source": "# Checking to See if Key is Within Dictionary\n'Event3' in AEW_Events",
      "metadata": {
        "trusted": true
      },
      "execution_count": 44,
      "outputs": [
        {
          "execution_count": 44,
          "output_type": "execute_result",
          "data": {
            "text/plain": "True"
          },
          "metadata": {}
        }
      ]
    },
    {
      "cell_type": "markdown",
      "source": "# <center> Sets </center>",
      "metadata": {}
    },
    {
      "cell_type": "code",
      "source": "# Creating a Set Example\nset1 = {\"Double or Nothing 2019\", \"All Out 2019\", \"Full Gear 2019\", \n              \"Revolution 2020\", \"Double or Nothing 2020\", \"All Out 2020\"}\nset1",
      "metadata": {
        "trusted": true
      },
      "execution_count": 45,
      "outputs": [
        {
          "execution_count": 45,
          "output_type": "execute_result",
          "data": {
            "text/plain": "{'All Out 2019',\n 'All Out 2020',\n 'Double or Nothing 2019',\n 'Double or Nothing 2020',\n 'Full Gear 2019',\n 'Revolution 2020'}"
          },
          "metadata": {}
        }
      ]
    },
    {
      "cell_type": "code",
      "source": "# Converting a List to a Set Example\nevent_list = [ \"Double or Nothing 2019\", \"All Out 2019\", \"Full Gear 2019\", \n              \"Revolution 2020\", \"Double or Nothing 2020\", \"All Out 2020\"]\nevent_set = set(event_list)             \nevent_set",
      "metadata": {
        "trusted": true
      },
      "execution_count": 46,
      "outputs": [
        {
          "execution_count": 46,
          "output_type": "execute_result",
          "data": {
            "text/plain": "{'All Out 2019',\n 'All Out 2020',\n 'Double or Nothing 2019',\n 'Double or Nothing 2020',\n 'Full Gear 2019',\n 'Revolution 2020'}"
          },
          "metadata": {}
        }
      ]
    },
    {
      "cell_type": "code",
      "source": "# Checking Type of New Set\nprint(type(event_list))\nprint(type(event_set))",
      "metadata": {
        "trusted": true
      },
      "execution_count": 47,
      "outputs": [
        {
          "name": "stdout",
          "text": "<class 'list'>\n<class 'set'>\n",
          "output_type": "stream"
        }
      ]
    },
    {
      "cell_type": "code",
      "source": "# Adding an New Element to a Set Example\nevent_set.add(\"Full Gear 2020\")\nevent_set",
      "metadata": {
        "trusted": true
      },
      "execution_count": 49,
      "outputs": [
        {
          "execution_count": 49,
          "output_type": "execute_result",
          "data": {
            "text/plain": "{'All Out 2019',\n 'All Out 2020',\n 'Double or Nothing 2019',\n 'Double or Nothing 2020',\n 'Full Gear 2019',\n 'Full Gear 2020',\n 'Revolution 2020'}"
          },
          "metadata": {}
        }
      ]
    },
    {
      "cell_type": "code",
      "source": "# What Happens When Attempting to Add a Duplicate Value to a Set Example\nevent_set.add(\"Full Gear 2020\")\nevent_set",
      "metadata": {
        "trusted": true
      },
      "execution_count": 50,
      "outputs": [
        {
          "execution_count": 50,
          "output_type": "execute_result",
          "data": {
            "text/plain": "{'All Out 2019',\n 'All Out 2020',\n 'Double or Nothing 2019',\n 'Double or Nothing 2020',\n 'Full Gear 2019',\n 'Full Gear 2020',\n 'Revolution 2020'}"
          },
          "metadata": {}
        }
      ]
    },
    {
      "cell_type": "code",
      "source": "# Removing an Element from a Set Example\nevent_set.remove(\"Full Gear 2020\")\nevent_set",
      "metadata": {
        "trusted": true
      },
      "execution_count": 51,
      "outputs": [
        {
          "execution_count": 51,
          "output_type": "execute_result",
          "data": {
            "text/plain": "{'All Out 2019',\n 'All Out 2020',\n 'Double or Nothing 2019',\n 'Double or Nothing 2020',\n 'Full Gear 2019',\n 'Revolution 2020'}"
          },
          "metadata": {}
        }
      ]
    },
    {
      "cell_type": "code",
      "source": "# Checking if an Element is in a Set\n\"All Out 2020\" in event_set",
      "metadata": {
        "trusted": true
      },
      "execution_count": 52,
      "outputs": [
        {
          "execution_count": 52,
          "output_type": "execute_result",
          "data": {
            "text/plain": "True"
          },
          "metadata": {}
        }
      ]
    },
    {
      "cell_type": "code",
      "source": "# New Set\nevent_set2 = {\"Double or Nothing 2020\", \"All Out 2019\", \"Full Gear 2021\", \n              \"Revolution 2021\", \"Double or Nothing 2022\", \"All Out 2020\"}\nevent_set2",
      "metadata": {
        "trusted": true
      },
      "execution_count": 54,
      "outputs": [
        {
          "execution_count": 54,
          "output_type": "execute_result",
          "data": {
            "text/plain": "{'All Out 2019',\n 'All Out 2020',\n 'Double or Nothing 2020',\n 'Double or Nothing 2022',\n 'Full Gear 2021',\n 'Revolution 2021'}"
          },
          "metadata": {}
        }
      ]
    },
    {
      "cell_type": "code",
      "source": "# Finding the Intersection Between Two Sets Example\nIntersection = event_set & event_set2\nIntersection",
      "metadata": {
        "trusted": true
      },
      "execution_count": 55,
      "outputs": [
        {
          "execution_count": 55,
          "output_type": "execute_result",
          "data": {
            "text/plain": "{'All Out 2019', 'All Out 2020', 'Double or Nothing 2020'}"
          },
          "metadata": {}
        }
      ]
    },
    {
      "cell_type": "code",
      "source": "# Finding the Intersection Between Two Sets Example 2\nevent_set.intersection(event_set2)",
      "metadata": {
        "trusted": true
      },
      "execution_count": 60,
      "outputs": [
        {
          "execution_count": 60,
          "output_type": "execute_result",
          "data": {
            "text/plain": "{'All Out 2019', 'All Out 2020', 'Double or Nothing 2020'}"
          },
          "metadata": {}
        }
      ]
    },
    {
      "cell_type": "code",
      "source": "# Finding the Difference in the First Set but Not Set 2 Example\nevent_set.difference(event_set2)",
      "metadata": {
        "trusted": true
      },
      "execution_count": 61,
      "outputs": [
        {
          "execution_count": 61,
          "output_type": "execute_result",
          "data": {
            "text/plain": "{'Double or Nothing 2019', 'Full Gear 2019', 'Revolution 2020'}"
          },
          "metadata": {}
        }
      ]
    },
    {
      "cell_type": "code",
      "source": "# Finding the Difference in Set 2 but Not the First Set Example\nevent_set2.difference(event_set)",
      "metadata": {
        "trusted": true
      },
      "execution_count": 62,
      "outputs": [
        {
          "execution_count": 62,
          "output_type": "execute_result",
          "data": {
            "text/plain": "{'Double or Nothing 2022', 'Full Gear 2021', 'Revolution 2021'}"
          },
          "metadata": {}
        }
      ]
    },
    {
      "cell_type": "code",
      "source": "# Finding the Union of the Two Sets Example\nevent_set.union(event_set2)",
      "metadata": {
        "trusted": true
      },
      "execution_count": 63,
      "outputs": [
        {
          "execution_count": 63,
          "output_type": "execute_result",
          "data": {
            "text/plain": "{'All Out 2019',\n 'All Out 2020',\n 'Double or Nothing 2019',\n 'Double or Nothing 2020',\n 'Double or Nothing 2022',\n 'Full Gear 2019',\n 'Full Gear 2021',\n 'Revolution 2020',\n 'Revolution 2021'}"
          },
          "metadata": {}
        }
      ]
    },
    {
      "cell_type": "code",
      "source": "# Checking if there is a SuperSet Example\nevent_set.issuperset(event_set2)",
      "metadata": {
        "trusted": true
      },
      "execution_count": 64,
      "outputs": [
        {
          "execution_count": 64,
          "output_type": "execute_result",
          "data": {
            "text/plain": "False"
          },
          "metadata": {}
        }
      ]
    },
    {
      "cell_type": "code",
      "source": "# Checking if there is a SubSet Example\nevent_set2.issubset(event_set)",
      "metadata": {
        "trusted": true
      },
      "execution_count": 65,
      "outputs": [
        {
          "execution_count": 65,
          "output_type": "execute_result",
          "data": {
            "text/plain": "False"
          },
          "metadata": {}
        }
      ]
    }
  ]
}